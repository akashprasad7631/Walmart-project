{
 "cells": [
  {
   "cell_type": "code",
   "execution_count": null,
   "metadata": {},
   "outputs": [],
   "source": []
  },
  {
   "cell_type": "markdown",
   "metadata": {},
   "source": [
    "# walmart project!!"
   ]
  },
  {
   "cell_type": "code",
   "execution_count": 1,
   "metadata": {},
   "outputs": [],
   "source": [
    "#importing libraies\n",
    "import pandas as pd\n",
    "import numpy as np\n"
   ]
  },
  {
   "cell_type": "code",
   "execution_count": 2,
   "metadata": {},
   "outputs": [],
   "source": [
    "#loading dataset\n",
    "df = pd.read_csv(\"/Users/users/Downloads/Walmart_Store_sales.csv\")"
   ]
  },
  {
   "cell_type": "code",
   "execution_count": 3,
   "metadata": {},
   "outputs": [
    {
     "data": {
      "text/html": [
       "<div>\n",
       "<style scoped>\n",
       "    .dataframe tbody tr th:only-of-type {\n",
       "        vertical-align: middle;\n",
       "    }\n",
       "\n",
       "    .dataframe tbody tr th {\n",
       "        vertical-align: top;\n",
       "    }\n",
       "\n",
       "    .dataframe thead th {\n",
       "        text-align: right;\n",
       "    }\n",
       "</style>\n",
       "<table border=\"1\" class=\"dataframe\">\n",
       "  <thead>\n",
       "    <tr style=\"text-align: right;\">\n",
       "      <th></th>\n",
       "      <th>Store</th>\n",
       "      <th>Date</th>\n",
       "      <th>Weekly_Sales</th>\n",
       "      <th>Holiday_Flag</th>\n",
       "      <th>Temperature</th>\n",
       "      <th>Fuel_Price</th>\n",
       "      <th>CPI</th>\n",
       "      <th>Unemployment</th>\n",
       "    </tr>\n",
       "  </thead>\n",
       "  <tbody>\n",
       "    <tr>\n",
       "      <th>0</th>\n",
       "      <td>1</td>\n",
       "      <td>05-02-2010</td>\n",
       "      <td>1643690.90</td>\n",
       "      <td>0</td>\n",
       "      <td>42.31</td>\n",
       "      <td>2.572</td>\n",
       "      <td>211.096358</td>\n",
       "      <td>8.106</td>\n",
       "    </tr>\n",
       "    <tr>\n",
       "      <th>1</th>\n",
       "      <td>1</td>\n",
       "      <td>12-02-2010</td>\n",
       "      <td>1641957.44</td>\n",
       "      <td>1</td>\n",
       "      <td>38.51</td>\n",
       "      <td>2.548</td>\n",
       "      <td>211.242170</td>\n",
       "      <td>8.106</td>\n",
       "    </tr>\n",
       "    <tr>\n",
       "      <th>2</th>\n",
       "      <td>1</td>\n",
       "      <td>19-02-2010</td>\n",
       "      <td>1611968.17</td>\n",
       "      <td>0</td>\n",
       "      <td>39.93</td>\n",
       "      <td>2.514</td>\n",
       "      <td>211.289143</td>\n",
       "      <td>8.106</td>\n",
       "    </tr>\n",
       "    <tr>\n",
       "      <th>3</th>\n",
       "      <td>1</td>\n",
       "      <td>26-02-2010</td>\n",
       "      <td>1409727.59</td>\n",
       "      <td>0</td>\n",
       "      <td>46.63</td>\n",
       "      <td>2.561</td>\n",
       "      <td>211.319643</td>\n",
       "      <td>8.106</td>\n",
       "    </tr>\n",
       "    <tr>\n",
       "      <th>4</th>\n",
       "      <td>1</td>\n",
       "      <td>05-03-2010</td>\n",
       "      <td>1554806.68</td>\n",
       "      <td>0</td>\n",
       "      <td>46.50</td>\n",
       "      <td>2.625</td>\n",
       "      <td>211.350143</td>\n",
       "      <td>8.106</td>\n",
       "    </tr>\n",
       "  </tbody>\n",
       "</table>\n",
       "</div>"
      ],
      "text/plain": [
       "   Store        Date  Weekly_Sales  Holiday_Flag  Temperature  Fuel_Price  \\\n",
       "0      1  05-02-2010    1643690.90             0        42.31       2.572   \n",
       "1      1  12-02-2010    1641957.44             1        38.51       2.548   \n",
       "2      1  19-02-2010    1611968.17             0        39.93       2.514   \n",
       "3      1  26-02-2010    1409727.59             0        46.63       2.561   \n",
       "4      1  05-03-2010    1554806.68             0        46.50       2.625   \n",
       "\n",
       "          CPI  Unemployment  \n",
       "0  211.096358         8.106  \n",
       "1  211.242170         8.106  \n",
       "2  211.289143         8.106  \n",
       "3  211.319643         8.106  \n",
       "4  211.350143         8.106  "
      ]
     },
     "execution_count": 3,
     "metadata": {},
     "output_type": "execute_result"
    }
   ],
   "source": [
    "df.head()"
   ]
  },
  {
   "cell_type": "code",
   "execution_count": 4,
   "metadata": {},
   "outputs": [
    {
     "name": "stdout",
     "output_type": "stream",
     "text": [
      "<class 'pandas.core.frame.DataFrame'>\n",
      "RangeIndex: 6435 entries, 0 to 6434\n",
      "Data columns (total 8 columns):\n",
      " #   Column        Non-Null Count  Dtype  \n",
      "---  ------        --------------  -----  \n",
      " 0   Store         6435 non-null   int64  \n",
      " 1   Date          6435 non-null   object \n",
      " 2   Weekly_Sales  6435 non-null   float64\n",
      " 3   Holiday_Flag  6435 non-null   int64  \n",
      " 4   Temperature   6435 non-null   float64\n",
      " 5   Fuel_Price    6435 non-null   float64\n",
      " 6   CPI           6435 non-null   float64\n",
      " 7   Unemployment  6435 non-null   float64\n",
      "dtypes: float64(5), int64(2), object(1)\n",
      "memory usage: 402.3+ KB\n"
     ]
    }
   ],
   "source": [
    "#checking dtypes and changing neccesary columns\n",
    "df.info()"
   ]
  },
  {
   "cell_type": "code",
   "execution_count": 5,
   "metadata": {},
   "outputs": [],
   "source": [
    "df[\"Date\"] = pd.to_datetime(df[\"Date\"])"
   ]
  },
  {
   "cell_type": "code",
   "execution_count": 6,
   "metadata": {},
   "outputs": [],
   "source": [
    "df[\"Store\"] = df[\"Store\"].astype(\"category\")"
   ]
  },
  {
   "cell_type": "code",
   "execution_count": 7,
   "metadata": {},
   "outputs": [],
   "source": [
    "df[\"Holiday_Flag\"] = df[\"Holiday_Flag\"].astype(\"category\")"
   ]
  },
  {
   "cell_type": "code",
   "execution_count": 8,
   "metadata": {},
   "outputs": [
    {
     "name": "stdout",
     "output_type": "stream",
     "text": [
      "<class 'pandas.core.frame.DataFrame'>\n",
      "RangeIndex: 6435 entries, 0 to 6434\n",
      "Data columns (total 8 columns):\n",
      " #   Column        Non-Null Count  Dtype         \n",
      "---  ------        --------------  -----         \n",
      " 0   Store         6435 non-null   category      \n",
      " 1   Date          6435 non-null   datetime64[ns]\n",
      " 2   Weekly_Sales  6435 non-null   float64       \n",
      " 3   Holiday_Flag  6435 non-null   category      \n",
      " 4   Temperature   6435 non-null   float64       \n",
      " 5   Fuel_Price    6435 non-null   float64       \n",
      " 6   CPI           6435 non-null   float64       \n",
      " 7   Unemployment  6435 non-null   float64       \n",
      "dtypes: category(2), datetime64[ns](1), float64(5)\n",
      "memory usage: 316.0 KB\n"
     ]
    }
   ],
   "source": [
    "df.info()"
   ]
  },
  {
   "cell_type": "code",
   "execution_count": 9,
   "metadata": {},
   "outputs": [
    {
     "data": {
      "text/plain": [
       "14"
      ]
     },
     "execution_count": 9,
     "metadata": {},
     "output_type": "execute_result"
    }
   ],
   "source": [
    "#Max sales\n",
    "df[\"Weekly_Sales\"].argmax()   #1905 is row index with highest sales\n",
    "df[\"Store\"].iloc[1905]      #store 14 has max sales"
   ]
  },
  {
   "cell_type": "code",
   "execution_count": 10,
   "metadata": {},
   "outputs": [
    {
     "name": "stderr",
     "output_type": "stream",
     "text": [
      "/opt/anaconda3/lib/python3.8/site-packages/numpy/core/fromnumeric.py:3370: FutureWarning: DataFrame.mean and DataFrame.median with numeric_only=None will include datetime64 and datetime64tz columns in a future version.\n",
      "  return mean(axis=axis, dtype=dtype, out=out, **kwargs)\n"
     ]
    }
   ],
   "source": [
    "#max standard deviation and coffient i.e mean to std\n",
    "std = df.groupby(\"Store\").apply(np.std)\n",
    "mean = df.groupby(\"Store\").apply(np.mean)"
   ]
  },
  {
   "cell_type": "code",
   "execution_count": 11,
   "metadata": {},
   "outputs": [],
   "source": [
    "coff = mean/std"
   ]
  },
  {
   "cell_type": "code",
   "execution_count": 12,
   "metadata": {},
   "outputs": [
    {
     "data": {
      "text/plain": [
       "Weekly_Sales    14\n",
       "Temperature     40\n",
       "Fuel_Price      18\n",
       "CPI              9\n",
       "Unemployment     4\n",
       "dtype: int64"
      ]
     },
     "execution_count": 12,
     "metadata": {},
     "output_type": "execute_result"
    }
   ],
   "source": [
    "std.idxmax()   #store 14 has max std  #idxmax gives index of max values of cols"
   ]
  },
  {
   "cell_type": "code",
   "execution_count": 13,
   "metadata": {},
   "outputs": [
    {
     "data": {
      "text/plain": [
       "Weekly_Sales    37\n",
       "Temperature     36\n",
       "Fuel_Price      13\n",
       "CPI              4\n",
       "Unemployment    14\n",
       "dtype: int64"
      ]
     },
     "execution_count": 13,
     "metadata": {},
     "output_type": "execute_result"
    }
   ],
   "source": [
    "coff.idxmax()      #store 37 has max cofficeint i.e mean/std"
   ]
  },
  {
   "cell_type": "code",
   "execution_count": 14,
   "metadata": {},
   "outputs": [],
   "source": [
    "#creating year month and  week col\n",
    "import datetime\n",
    "data =  df[\"Date\"].dt.isocalendar()\n",
    "df[\"month\"] = df[\"Date\"].dt.month\n",
    "df = pd.concat([df,data],axis=1)"
   ]
  },
  {
   "cell_type": "code",
   "execution_count": 15,
   "metadata": {},
   "outputs": [
    {
     "data": {
      "text/html": [
       "<div>\n",
       "<style scoped>\n",
       "    .dataframe tbody tr th:only-of-type {\n",
       "        vertical-align: middle;\n",
       "    }\n",
       "\n",
       "    .dataframe tbody tr th {\n",
       "        vertical-align: top;\n",
       "    }\n",
       "\n",
       "    .dataframe thead th {\n",
       "        text-align: right;\n",
       "    }\n",
       "</style>\n",
       "<table border=\"1\" class=\"dataframe\">\n",
       "  <thead>\n",
       "    <tr style=\"text-align: right;\">\n",
       "      <th></th>\n",
       "      <th>Store</th>\n",
       "      <th>Date</th>\n",
       "      <th>Weekly_Sales</th>\n",
       "      <th>Holiday_Flag</th>\n",
       "      <th>Temperature</th>\n",
       "      <th>Fuel_Price</th>\n",
       "      <th>CPI</th>\n",
       "      <th>Unemployment</th>\n",
       "      <th>month</th>\n",
       "      <th>year</th>\n",
       "      <th>week</th>\n",
       "      <th>day</th>\n",
       "    </tr>\n",
       "  </thead>\n",
       "  <tbody>\n",
       "    <tr>\n",
       "      <th>0</th>\n",
       "      <td>1</td>\n",
       "      <td>2010-05-02</td>\n",
       "      <td>1643690.90</td>\n",
       "      <td>0</td>\n",
       "      <td>42.31</td>\n",
       "      <td>2.572</td>\n",
       "      <td>211.096358</td>\n",
       "      <td>8.106</td>\n",
       "      <td>5</td>\n",
       "      <td>2010</td>\n",
       "      <td>17</td>\n",
       "      <td>7</td>\n",
       "    </tr>\n",
       "    <tr>\n",
       "      <th>1</th>\n",
       "      <td>1</td>\n",
       "      <td>2010-12-02</td>\n",
       "      <td>1641957.44</td>\n",
       "      <td>1</td>\n",
       "      <td>38.51</td>\n",
       "      <td>2.548</td>\n",
       "      <td>211.242170</td>\n",
       "      <td>8.106</td>\n",
       "      <td>12</td>\n",
       "      <td>2010</td>\n",
       "      <td>48</td>\n",
       "      <td>4</td>\n",
       "    </tr>\n",
       "    <tr>\n",
       "      <th>2</th>\n",
       "      <td>1</td>\n",
       "      <td>2010-02-19</td>\n",
       "      <td>1611968.17</td>\n",
       "      <td>0</td>\n",
       "      <td>39.93</td>\n",
       "      <td>2.514</td>\n",
       "      <td>211.289143</td>\n",
       "      <td>8.106</td>\n",
       "      <td>2</td>\n",
       "      <td>2010</td>\n",
       "      <td>7</td>\n",
       "      <td>5</td>\n",
       "    </tr>\n",
       "    <tr>\n",
       "      <th>3</th>\n",
       "      <td>1</td>\n",
       "      <td>2010-02-26</td>\n",
       "      <td>1409727.59</td>\n",
       "      <td>0</td>\n",
       "      <td>46.63</td>\n",
       "      <td>2.561</td>\n",
       "      <td>211.319643</td>\n",
       "      <td>8.106</td>\n",
       "      <td>2</td>\n",
       "      <td>2010</td>\n",
       "      <td>8</td>\n",
       "      <td>5</td>\n",
       "    </tr>\n",
       "    <tr>\n",
       "      <th>4</th>\n",
       "      <td>1</td>\n",
       "      <td>2010-05-03</td>\n",
       "      <td>1554806.68</td>\n",
       "      <td>0</td>\n",
       "      <td>46.50</td>\n",
       "      <td>2.625</td>\n",
       "      <td>211.350143</td>\n",
       "      <td>8.106</td>\n",
       "      <td>5</td>\n",
       "      <td>2010</td>\n",
       "      <td>18</td>\n",
       "      <td>1</td>\n",
       "    </tr>\n",
       "  </tbody>\n",
       "</table>\n",
       "</div>"
      ],
      "text/plain": [
       "  Store       Date  Weekly_Sales Holiday_Flag  Temperature  Fuel_Price  \\\n",
       "0     1 2010-05-02    1643690.90            0        42.31       2.572   \n",
       "1     1 2010-12-02    1641957.44            1        38.51       2.548   \n",
       "2     1 2010-02-19    1611968.17            0        39.93       2.514   \n",
       "3     1 2010-02-26    1409727.59            0        46.63       2.561   \n",
       "4     1 2010-05-03    1554806.68            0        46.50       2.625   \n",
       "\n",
       "          CPI  Unemployment  month  year  week  day  \n",
       "0  211.096358         8.106      5  2010    17    7  \n",
       "1  211.242170         8.106     12  2010    48    4  \n",
       "2  211.289143         8.106      2  2010     7    5  \n",
       "3  211.319643         8.106      2  2010     8    5  \n",
       "4  211.350143         8.106      5  2010    18    1  "
      ]
     },
     "execution_count": 15,
     "metadata": {},
     "output_type": "execute_result"
    }
   ],
   "source": [
    "df.head()"
   ]
  },
  {
   "cell_type": "code",
   "execution_count": 16,
   "metadata": {},
   "outputs": [
    {
     "name": "stdout",
     "output_type": "stream",
     "text": [
      "<class 'pandas.core.frame.DataFrame'>\n",
      "RangeIndex: 6435 entries, 0 to 6434\n",
      "Data columns (total 12 columns):\n",
      " #   Column        Non-Null Count  Dtype         \n",
      "---  ------        --------------  -----         \n",
      " 0   Store         6435 non-null   category      \n",
      " 1   Date          6435 non-null   datetime64[ns]\n",
      " 2   Weekly_Sales  6435 non-null   float64       \n",
      " 3   Holiday_Flag  6435 non-null   category      \n",
      " 4   Temperature   6435 non-null   float64       \n",
      " 5   Fuel_Price    6435 non-null   float64       \n",
      " 6   CPI           6435 non-null   float64       \n",
      " 7   Unemployment  6435 non-null   float64       \n",
      " 8   month         6435 non-null   int64         \n",
      " 9   year          6435 non-null   UInt32        \n",
      " 10  week          6435 non-null   UInt32        \n",
      " 11  day           6435 non-null   UInt32        \n",
      "dtypes: UInt32(3), category(2), datetime64[ns](1), float64(5), int64(1)\n",
      "memory usage: 460.6 KB\n"
     ]
    }
   ],
   "source": [
    "df.info()"
   ]
  },
  {
   "cell_type": "code",
   "execution_count": 17,
   "metadata": {},
   "outputs": [],
   "source": [
    "#changing dtype of year and week\n",
    "df[\"year\"] = df[\"year\"].astype(\"category\")\n",
    "df[\"month\"] = df[\"month\"].astype(\"category\")\n",
    "df[\"week\"] = df[\"week\"].astype(\"category\")"
   ]
  },
  {
   "cell_type": "code",
   "execution_count": 18,
   "metadata": {},
   "outputs": [
    {
     "data": {
      "text/html": [
       "<div>\n",
       "<style scoped>\n",
       "    .dataframe tbody tr th:only-of-type {\n",
       "        vertical-align: middle;\n",
       "    }\n",
       "\n",
       "    .dataframe tbody tr th {\n",
       "        vertical-align: top;\n",
       "    }\n",
       "\n",
       "    .dataframe thead th {\n",
       "        text-align: right;\n",
       "    }\n",
       "</style>\n",
       "<table border=\"1\" class=\"dataframe\">\n",
       "  <thead>\n",
       "    <tr style=\"text-align: right;\">\n",
       "      <th></th>\n",
       "      <th>Store</th>\n",
       "      <th>Date</th>\n",
       "      <th>Weekly_Sales</th>\n",
       "      <th>Holiday_Flag</th>\n",
       "      <th>Temperature</th>\n",
       "      <th>Fuel_Price</th>\n",
       "      <th>CPI</th>\n",
       "      <th>Unemployment</th>\n",
       "      <th>month</th>\n",
       "      <th>year</th>\n",
       "      <th>week</th>\n",
       "      <th>day</th>\n",
       "    </tr>\n",
       "  </thead>\n",
       "  <tbody>\n",
       "    <tr>\n",
       "      <th>0</th>\n",
       "      <td>1</td>\n",
       "      <td>2010-05-02</td>\n",
       "      <td>1643690.90</td>\n",
       "      <td>0</td>\n",
       "      <td>42.31</td>\n",
       "      <td>2.572</td>\n",
       "      <td>211.096358</td>\n",
       "      <td>8.106</td>\n",
       "      <td>5</td>\n",
       "      <td>2010</td>\n",
       "      <td>17</td>\n",
       "      <td>7</td>\n",
       "    </tr>\n",
       "    <tr>\n",
       "      <th>1</th>\n",
       "      <td>1</td>\n",
       "      <td>2010-12-02</td>\n",
       "      <td>1641957.44</td>\n",
       "      <td>1</td>\n",
       "      <td>38.51</td>\n",
       "      <td>2.548</td>\n",
       "      <td>211.242170</td>\n",
       "      <td>8.106</td>\n",
       "      <td>12</td>\n",
       "      <td>2010</td>\n",
       "      <td>48</td>\n",
       "      <td>4</td>\n",
       "    </tr>\n",
       "    <tr>\n",
       "      <th>2</th>\n",
       "      <td>1</td>\n",
       "      <td>2010-02-19</td>\n",
       "      <td>1611968.17</td>\n",
       "      <td>0</td>\n",
       "      <td>39.93</td>\n",
       "      <td>2.514</td>\n",
       "      <td>211.289143</td>\n",
       "      <td>8.106</td>\n",
       "      <td>2</td>\n",
       "      <td>2010</td>\n",
       "      <td>7</td>\n",
       "      <td>5</td>\n",
       "    </tr>\n",
       "    <tr>\n",
       "      <th>3</th>\n",
       "      <td>1</td>\n",
       "      <td>2010-02-26</td>\n",
       "      <td>1409727.59</td>\n",
       "      <td>0</td>\n",
       "      <td>46.63</td>\n",
       "      <td>2.561</td>\n",
       "      <td>211.319643</td>\n",
       "      <td>8.106</td>\n",
       "      <td>2</td>\n",
       "      <td>2010</td>\n",
       "      <td>8</td>\n",
       "      <td>5</td>\n",
       "    </tr>\n",
       "    <tr>\n",
       "      <th>4</th>\n",
       "      <td>1</td>\n",
       "      <td>2010-05-03</td>\n",
       "      <td>1554806.68</td>\n",
       "      <td>0</td>\n",
       "      <td>46.50</td>\n",
       "      <td>2.625</td>\n",
       "      <td>211.350143</td>\n",
       "      <td>8.106</td>\n",
       "      <td>5</td>\n",
       "      <td>2010</td>\n",
       "      <td>18</td>\n",
       "      <td>1</td>\n",
       "    </tr>\n",
       "  </tbody>\n",
       "</table>\n",
       "</div>"
      ],
      "text/plain": [
       "  Store       Date  Weekly_Sales Holiday_Flag  Temperature  Fuel_Price  \\\n",
       "0     1 2010-05-02    1643690.90            0        42.31       2.572   \n",
       "1     1 2010-12-02    1641957.44            1        38.51       2.548   \n",
       "2     1 2010-02-19    1611968.17            0        39.93       2.514   \n",
       "3     1 2010-02-26    1409727.59            0        46.63       2.561   \n",
       "4     1 2010-05-03    1554806.68            0        46.50       2.625   \n",
       "\n",
       "          CPI  Unemployment month  year week  day  \n",
       "0  211.096358         8.106     5  2010   17    7  \n",
       "1  211.242170         8.106    12  2010   48    4  \n",
       "2  211.289143         8.106     2  2010    7    5  \n",
       "3  211.319643         8.106     2  2010    8    5  \n",
       "4  211.350143         8.106     5  2010   18    1  "
      ]
     },
     "execution_count": 18,
     "metadata": {},
     "output_type": "execute_result"
    }
   ],
   "source": [
    "df.head()"
   ]
  },
  {
   "cell_type": "code",
   "execution_count": 19,
   "metadata": {},
   "outputs": [],
   "source": [
    "df[\"Q\"] = df[\"Date\"].dt.quarter"
   ]
  },
  {
   "cell_type": "code",
   "execution_count": 20,
   "metadata": {},
   "outputs": [],
   "source": [
    "data = df[[\"Store\",\"Weekly_Sales\",\"year\",\"Q\"]]"
   ]
  },
  {
   "cell_type": "code",
   "execution_count": 21,
   "metadata": {},
   "outputs": [
    {
     "data": {
      "text/html": [
       "<div>\n",
       "<style scoped>\n",
       "    .dataframe tbody tr th:only-of-type {\n",
       "        vertical-align: middle;\n",
       "    }\n",
       "\n",
       "    .dataframe tbody tr th {\n",
       "        vertical-align: top;\n",
       "    }\n",
       "\n",
       "    .dataframe thead th {\n",
       "        text-align: right;\n",
       "    }\n",
       "</style>\n",
       "<table border=\"1\" class=\"dataframe\">\n",
       "  <thead>\n",
       "    <tr style=\"text-align: right;\">\n",
       "      <th></th>\n",
       "      <th>Store</th>\n",
       "      <th>Weekly_Sales</th>\n",
       "      <th>year</th>\n",
       "      <th>Q</th>\n",
       "    </tr>\n",
       "  </thead>\n",
       "  <tbody>\n",
       "    <tr>\n",
       "      <th>0</th>\n",
       "      <td>1</td>\n",
       "      <td>1643690.90</td>\n",
       "      <td>2010</td>\n",
       "      <td>2</td>\n",
       "    </tr>\n",
       "    <tr>\n",
       "      <th>1</th>\n",
       "      <td>1</td>\n",
       "      <td>1641957.44</td>\n",
       "      <td>2010</td>\n",
       "      <td>4</td>\n",
       "    </tr>\n",
       "    <tr>\n",
       "      <th>2</th>\n",
       "      <td>1</td>\n",
       "      <td>1611968.17</td>\n",
       "      <td>2010</td>\n",
       "      <td>1</td>\n",
       "    </tr>\n",
       "    <tr>\n",
       "      <th>3</th>\n",
       "      <td>1</td>\n",
       "      <td>1409727.59</td>\n",
       "      <td>2010</td>\n",
       "      <td>1</td>\n",
       "    </tr>\n",
       "    <tr>\n",
       "      <th>4</th>\n",
       "      <td>1</td>\n",
       "      <td>1554806.68</td>\n",
       "      <td>2010</td>\n",
       "      <td>2</td>\n",
       "    </tr>\n",
       "  </tbody>\n",
       "</table>\n",
       "</div>"
      ],
      "text/plain": [
       "  Store  Weekly_Sales  year  Q\n",
       "0     1    1643690.90  2010  2\n",
       "1     1    1641957.44  2010  4\n",
       "2     1    1611968.17  2010  1\n",
       "3     1    1409727.59  2010  1\n",
       "4     1    1554806.68  2010  2"
      ]
     },
     "execution_count": 21,
     "metadata": {},
     "output_type": "execute_result"
    }
   ],
   "source": [
    "data.head()"
   ]
  },
  {
   "cell_type": "code",
   "execution_count": 22,
   "metadata": {},
   "outputs": [],
   "source": [
    "year2012 = data[data[\"year\"]== 2012]"
   ]
  },
  {
   "cell_type": "code",
   "execution_count": 23,
   "metadata": {},
   "outputs": [
    {
     "data": {
      "text/html": [
       "<div>\n",
       "<style scoped>\n",
       "    .dataframe tbody tr th:only-of-type {\n",
       "        vertical-align: middle;\n",
       "    }\n",
       "\n",
       "    .dataframe tbody tr th {\n",
       "        vertical-align: top;\n",
       "    }\n",
       "\n",
       "    .dataframe thead th {\n",
       "        text-align: right;\n",
       "    }\n",
       "</style>\n",
       "<table border=\"1\" class=\"dataframe\">\n",
       "  <thead>\n",
       "    <tr style=\"text-align: right;\">\n",
       "      <th></th>\n",
       "      <th>Store</th>\n",
       "      <th>Weekly_Sales</th>\n",
       "      <th>year</th>\n",
       "      <th>Q</th>\n",
       "    </tr>\n",
       "  </thead>\n",
       "  <tbody>\n",
       "    <tr>\n",
       "      <th>100</th>\n",
       "      <td>1</td>\n",
       "      <td>1550369.92</td>\n",
       "      <td>2012</td>\n",
       "      <td>2</td>\n",
       "    </tr>\n",
       "    <tr>\n",
       "      <th>101</th>\n",
       "      <td>1</td>\n",
       "      <td>1459601.17</td>\n",
       "      <td>2012</td>\n",
       "      <td>1</td>\n",
       "    </tr>\n",
       "    <tr>\n",
       "      <th>102</th>\n",
       "      <td>1</td>\n",
       "      <td>1394393.84</td>\n",
       "      <td>2012</td>\n",
       "      <td>1</td>\n",
       "    </tr>\n",
       "    <tr>\n",
       "      <th>103</th>\n",
       "      <td>1</td>\n",
       "      <td>1319325.59</td>\n",
       "      <td>2012</td>\n",
       "      <td>1</td>\n",
       "    </tr>\n",
       "    <tr>\n",
       "      <th>104</th>\n",
       "      <td>1</td>\n",
       "      <td>1636339.65</td>\n",
       "      <td>2012</td>\n",
       "      <td>1</td>\n",
       "    </tr>\n",
       "  </tbody>\n",
       "</table>\n",
       "</div>"
      ],
      "text/plain": [
       "    Store  Weekly_Sales  year  Q\n",
       "100     1    1550369.92  2012  2\n",
       "101     1    1459601.17  2012  1\n",
       "102     1    1394393.84  2012  1\n",
       "103     1    1319325.59  2012  1\n",
       "104     1    1636339.65  2012  1"
      ]
     },
     "execution_count": 23,
     "metadata": {},
     "output_type": "execute_result"
    }
   ],
   "source": [
    "year2012.head()"
   ]
  },
  {
   "cell_type": "code",
   "execution_count": 24,
   "metadata": {},
   "outputs": [
    {
     "data": {
      "text/html": [
       "<div>\n",
       "<style scoped>\n",
       "    .dataframe tbody tr th:only-of-type {\n",
       "        vertical-align: middle;\n",
       "    }\n",
       "\n",
       "    .dataframe tbody tr th {\n",
       "        vertical-align: top;\n",
       "    }\n",
       "\n",
       "    .dataframe thead th {\n",
       "        text-align: right;\n",
       "    }\n",
       "</style>\n",
       "<table border=\"1\" class=\"dataframe\">\n",
       "  <thead>\n",
       "    <tr style=\"text-align: right;\">\n",
       "      <th></th>\n",
       "      <th>Store</th>\n",
       "      <th>Weekly_Sales</th>\n",
       "      <th>year</th>\n",
       "      <th>Q</th>\n",
       "    </tr>\n",
       "  </thead>\n",
       "  <tbody>\n",
       "    <tr>\n",
       "      <th>100</th>\n",
       "      <td>1</td>\n",
       "      <td>1550369.92</td>\n",
       "      <td>2012</td>\n",
       "      <td>2</td>\n",
       "    </tr>\n",
       "    <tr>\n",
       "      <th>113</th>\n",
       "      <td>1</td>\n",
       "      <td>1899676.88</td>\n",
       "      <td>2012</td>\n",
       "      <td>2</td>\n",
       "    </tr>\n",
       "    <tr>\n",
       "      <th>114</th>\n",
       "      <td>1</td>\n",
       "      <td>1621031.70</td>\n",
       "      <td>2012</td>\n",
       "      <td>2</td>\n",
       "    </tr>\n",
       "    <tr>\n",
       "      <th>115</th>\n",
       "      <td>1</td>\n",
       "      <td>1521577.87</td>\n",
       "      <td>2012</td>\n",
       "      <td>2</td>\n",
       "    </tr>\n",
       "    <tr>\n",
       "      <th>116</th>\n",
       "      <td>1</td>\n",
       "      <td>1468928.37</td>\n",
       "      <td>2012</td>\n",
       "      <td>2</td>\n",
       "    </tr>\n",
       "  </tbody>\n",
       "</table>\n",
       "</div>"
      ],
      "text/plain": [
       "    Store  Weekly_Sales  year  Q\n",
       "100     1    1550369.92  2012  2\n",
       "113     1    1899676.88  2012  2\n",
       "114     1    1621031.70  2012  2\n",
       "115     1    1521577.87  2012  2\n",
       "116     1    1468928.37  2012  2"
      ]
     },
     "execution_count": 24,
     "metadata": {},
     "output_type": "execute_result"
    }
   ],
   "source": [
    "q2_2012 = year2012[year2012[\"Q\"]==2]\n",
    "q2_2012.head()"
   ]
  },
  {
   "cell_type": "code",
   "execution_count": 25,
   "metadata": {},
   "outputs": [
    {
     "data": {
      "text/html": [
       "<div>\n",
       "<style scoped>\n",
       "    .dataframe tbody tr th:only-of-type {\n",
       "        vertical-align: middle;\n",
       "    }\n",
       "\n",
       "    .dataframe tbody tr th {\n",
       "        vertical-align: top;\n",
       "    }\n",
       "\n",
       "    .dataframe thead th {\n",
       "        text-align: right;\n",
       "    }\n",
       "</style>\n",
       "<table border=\"1\" class=\"dataframe\">\n",
       "  <thead>\n",
       "    <tr style=\"text-align: right;\">\n",
       "      <th></th>\n",
       "      <th>Store</th>\n",
       "      <th>Weekly_Sales</th>\n",
       "      <th>year</th>\n",
       "      <th>Q</th>\n",
       "    </tr>\n",
       "  </thead>\n",
       "  <tbody>\n",
       "    <tr>\n",
       "      <th>109</th>\n",
       "      <td>1</td>\n",
       "      <td>1675431.16</td>\n",
       "      <td>2012</td>\n",
       "      <td>3</td>\n",
       "    </tr>\n",
       "    <tr>\n",
       "      <th>122</th>\n",
       "      <td>1</td>\n",
       "      <td>1697230.96</td>\n",
       "      <td>2012</td>\n",
       "      <td>3</td>\n",
       "    </tr>\n",
       "    <tr>\n",
       "      <th>127</th>\n",
       "      <td>1</td>\n",
       "      <td>1527014.04</td>\n",
       "      <td>2012</td>\n",
       "      <td>3</td>\n",
       "    </tr>\n",
       "    <tr>\n",
       "      <th>128</th>\n",
       "      <td>1</td>\n",
       "      <td>1497954.76</td>\n",
       "      <td>2012</td>\n",
       "      <td>3</td>\n",
       "    </tr>\n",
       "    <tr>\n",
       "      <th>129</th>\n",
       "      <td>1</td>\n",
       "      <td>1439123.71</td>\n",
       "      <td>2012</td>\n",
       "      <td>3</td>\n",
       "    </tr>\n",
       "  </tbody>\n",
       "</table>\n",
       "</div>"
      ],
      "text/plain": [
       "    Store  Weekly_Sales  year  Q\n",
       "109     1    1675431.16  2012  3\n",
       "122     1    1697230.96  2012  3\n",
       "127     1    1527014.04  2012  3\n",
       "128     1    1497954.76  2012  3\n",
       "129     1    1439123.71  2012  3"
      ]
     },
     "execution_count": 25,
     "metadata": {},
     "output_type": "execute_result"
    }
   ],
   "source": [
    "q3_2012 = year2012[year2012[\"Q\"]==3]\n",
    "q3_2012.head()"
   ]
  },
  {
   "cell_type": "code",
   "execution_count": 26,
   "metadata": {},
   "outputs": [],
   "source": [
    "q2_store_mean = q2_2012.groupby(\"Store\").apply(np.mean)"
   ]
  },
  {
   "cell_type": "code",
   "execution_count": 27,
   "metadata": {},
   "outputs": [],
   "source": [
    "q3_store_mean = q3_2012.groupby(\"Store\").apply(np.mean)"
   ]
  },
  {
   "cell_type": "code",
   "execution_count": 28,
   "metadata": {},
   "outputs": [],
   "source": [
    "q3_growth = ((q3_store_mean - q2_store_mean)/q2_store_mean)*100 "
   ]
  },
  {
   "cell_type": "code",
   "execution_count": 29,
   "metadata": {},
   "outputs": [
    {
     "data": {
      "text/plain": [
       "Weekly_Sales    16\n",
       "Q                1\n",
       "dtype: int64"
      ]
     },
     "execution_count": 29,
     "metadata": {},
     "output_type": "execute_result"
    }
   ],
   "source": [
    "q3_growth.idxmax()"
   ]
  },
  {
   "cell_type": "code",
   "execution_count": 30,
   "metadata": {},
   "outputs": [],
   "source": [
    "q3_growth.drop(\"Q\",axis=1,inplace=True)"
   ]
  },
  {
   "cell_type": "code",
   "execution_count": 31,
   "metadata": {},
   "outputs": [
    {
     "data": {
      "text/plain": [
       "Weekly_Sales    16\n",
       "dtype: int64"
      ]
     },
     "execution_count": 31,
     "metadata": {},
     "output_type": "execute_result"
    }
   ],
   "source": [
    "q3_growth.idxmax()\n",
    "       #store 16 has max quarterly growth rate in Q3’2012 "
   ]
  },
  {
   "cell_type": "code",
   "execution_count": 32,
   "metadata": {},
   "outputs": [
    {
     "data": {
      "text/html": [
       "<div>\n",
       "<style scoped>\n",
       "    .dataframe tbody tr th:only-of-type {\n",
       "        vertical-align: middle;\n",
       "    }\n",
       "\n",
       "    .dataframe tbody tr th {\n",
       "        vertical-align: top;\n",
       "    }\n",
       "\n",
       "    .dataframe thead th {\n",
       "        text-align: right;\n",
       "    }\n",
       "</style>\n",
       "<table border=\"1\" class=\"dataframe\">\n",
       "  <thead>\n",
       "    <tr style=\"text-align: right;\">\n",
       "      <th></th>\n",
       "      <th>Store</th>\n",
       "      <th>Date</th>\n",
       "      <th>Weekly_Sales</th>\n",
       "      <th>Holiday_Flag</th>\n",
       "      <th>Temperature</th>\n",
       "      <th>Fuel_Price</th>\n",
       "      <th>CPI</th>\n",
       "      <th>Unemployment</th>\n",
       "      <th>month</th>\n",
       "      <th>year</th>\n",
       "      <th>week</th>\n",
       "      <th>day</th>\n",
       "      <th>Q</th>\n",
       "    </tr>\n",
       "  </thead>\n",
       "  <tbody>\n",
       "    <tr>\n",
       "      <th>0</th>\n",
       "      <td>1</td>\n",
       "      <td>2010-05-02</td>\n",
       "      <td>1643690.90</td>\n",
       "      <td>0</td>\n",
       "      <td>42.31</td>\n",
       "      <td>2.572</td>\n",
       "      <td>211.096358</td>\n",
       "      <td>8.106</td>\n",
       "      <td>5</td>\n",
       "      <td>2010</td>\n",
       "      <td>17</td>\n",
       "      <td>7</td>\n",
       "      <td>2</td>\n",
       "    </tr>\n",
       "    <tr>\n",
       "      <th>1</th>\n",
       "      <td>1</td>\n",
       "      <td>2010-12-02</td>\n",
       "      <td>1641957.44</td>\n",
       "      <td>1</td>\n",
       "      <td>38.51</td>\n",
       "      <td>2.548</td>\n",
       "      <td>211.242170</td>\n",
       "      <td>8.106</td>\n",
       "      <td>12</td>\n",
       "      <td>2010</td>\n",
       "      <td>48</td>\n",
       "      <td>4</td>\n",
       "      <td>4</td>\n",
       "    </tr>\n",
       "    <tr>\n",
       "      <th>2</th>\n",
       "      <td>1</td>\n",
       "      <td>2010-02-19</td>\n",
       "      <td>1611968.17</td>\n",
       "      <td>0</td>\n",
       "      <td>39.93</td>\n",
       "      <td>2.514</td>\n",
       "      <td>211.289143</td>\n",
       "      <td>8.106</td>\n",
       "      <td>2</td>\n",
       "      <td>2010</td>\n",
       "      <td>7</td>\n",
       "      <td>5</td>\n",
       "      <td>1</td>\n",
       "    </tr>\n",
       "    <tr>\n",
       "      <th>3</th>\n",
       "      <td>1</td>\n",
       "      <td>2010-02-26</td>\n",
       "      <td>1409727.59</td>\n",
       "      <td>0</td>\n",
       "      <td>46.63</td>\n",
       "      <td>2.561</td>\n",
       "      <td>211.319643</td>\n",
       "      <td>8.106</td>\n",
       "      <td>2</td>\n",
       "      <td>2010</td>\n",
       "      <td>8</td>\n",
       "      <td>5</td>\n",
       "      <td>1</td>\n",
       "    </tr>\n",
       "    <tr>\n",
       "      <th>4</th>\n",
       "      <td>1</td>\n",
       "      <td>2010-05-03</td>\n",
       "      <td>1554806.68</td>\n",
       "      <td>0</td>\n",
       "      <td>46.50</td>\n",
       "      <td>2.625</td>\n",
       "      <td>211.350143</td>\n",
       "      <td>8.106</td>\n",
       "      <td>5</td>\n",
       "      <td>2010</td>\n",
       "      <td>18</td>\n",
       "      <td>1</td>\n",
       "      <td>2</td>\n",
       "    </tr>\n",
       "  </tbody>\n",
       "</table>\n",
       "</div>"
      ],
      "text/plain": [
       "  Store       Date  Weekly_Sales Holiday_Flag  Temperature  Fuel_Price  \\\n",
       "0     1 2010-05-02    1643690.90            0        42.31       2.572   \n",
       "1     1 2010-12-02    1641957.44            1        38.51       2.548   \n",
       "2     1 2010-02-19    1611968.17            0        39.93       2.514   \n",
       "3     1 2010-02-26    1409727.59            0        46.63       2.561   \n",
       "4     1 2010-05-03    1554806.68            0        46.50       2.625   \n",
       "\n",
       "          CPI  Unemployment month  year week  day  Q  \n",
       "0  211.096358         8.106     5  2010   17    7  2  \n",
       "1  211.242170         8.106    12  2010   48    4  4  \n",
       "2  211.289143         8.106     2  2010    7    5  1  \n",
       "3  211.319643         8.106     2  2010    8    5  1  \n",
       "4  211.350143         8.106     5  2010   18    1  2  "
      ]
     },
     "execution_count": 32,
     "metadata": {},
     "output_type": "execute_result"
    }
   ],
   "source": [
    "df.head()"
   ]
  },
  {
   "cell_type": "code",
   "execution_count": 33,
   "metadata": {},
   "outputs": [
    {
     "data": {
      "text/plain": [
       "1041256.3802088564"
      ]
     },
     "execution_count": 33,
     "metadata": {},
     "output_type": "execute_result"
    }
   ],
   "source": [
    "df_without_holidays = df[df[\"Holiday_Flag\"]==0]\n",
    "mean_without_holidays = df_without_holidays[\"Weekly_Sales\"].mean()\n",
    "mean_without_holidays"
   ]
  },
  {
   "cell_type": "code",
   "execution_count": 34,
   "metadata": {},
   "outputs": [],
   "source": [
    "df_with_holidays = df[df[\"Holiday_Flag\"]==1]"
   ]
  },
  {
   "cell_type": "code",
   "execution_count": 35,
   "metadata": {},
   "outputs": [
    {
     "data": {
      "text/plain": [
       "[12, 10, 11, 9, 7]\n",
       "Categories (5, int64): [12, 10, 11, 9, 7]"
      ]
     },
     "execution_count": 35,
     "metadata": {},
     "output_type": "execute_result"
    }
   ],
   "source": [
    "df_with_holidays[\"month\"].unique()"
   ]
  },
  {
   "cell_type": "code",
   "execution_count": 36,
   "metadata": {},
   "outputs": [],
   "source": [
    "#Super Bowl: 12-Feb-10, 11-Feb-11, 10-Feb-12, 8-Feb-13  2nd month (not avaliable)\n",
    "#Labour Day: 10-Sep-10, 9-Sep-11, 7-Sep-12, 6-Sep-13  7th month week is 28\n",
    "#Thanksgiving: 26-Nov-10, 25-Nov-11, 23-Nov-12, 29-Nov-13  11th month week is 47\n",
    "#Christmas: 31-Dec-10, 30-Dec-11, 28-Dec-12, 27-Dec-13  12th month  week is 52\n",
    "# now i can sperate the holidays on basis of month\n",
    "Labourday = df_with_holidays[df_with_holidays[\"month\"]==7]\n",
    "thanksg = df_with_holidays[df_with_holidays[\"month\"]==11]\n",
    "chritmas = df_with_holidays[df_with_holidays[\"month\"]==12]"
   ]
  },
  {
   "cell_type": "code",
   "execution_count": 37,
   "metadata": {},
   "outputs": [
    {
     "data": {
      "text/plain": [
       "1041256.3802088564"
      ]
     },
     "execution_count": 37,
     "metadata": {},
     "output_type": "execute_result"
    }
   ],
   "source": [
    "mean_without_holidays"
   ]
  },
  {
   "cell_type": "code",
   "execution_count": 38,
   "metadata": {},
   "outputs": [
    {
     "data": {
      "text/html": [
       "<div>\n",
       "<style scoped>\n",
       "    .dataframe tbody tr th:only-of-type {\n",
       "        vertical-align: middle;\n",
       "    }\n",
       "\n",
       "    .dataframe tbody tr th {\n",
       "        vertical-align: top;\n",
       "    }\n",
       "\n",
       "    .dataframe thead th {\n",
       "        text-align: right;\n",
       "    }\n",
       "</style>\n",
       "<table border=\"1\" class=\"dataframe\">\n",
       "  <thead>\n",
       "    <tr style=\"text-align: right;\">\n",
       "      <th></th>\n",
       "      <th>Store</th>\n",
       "      <th>Date</th>\n",
       "      <th>Weekly_Sales</th>\n",
       "      <th>Holiday_Flag</th>\n",
       "      <th>Temperature</th>\n",
       "      <th>Fuel_Price</th>\n",
       "      <th>CPI</th>\n",
       "      <th>Unemployment</th>\n",
       "      <th>month</th>\n",
       "      <th>year</th>\n",
       "      <th>week</th>\n",
       "      <th>day</th>\n",
       "      <th>Q</th>\n",
       "    </tr>\n",
       "  </thead>\n",
       "  <tbody>\n",
       "    <tr>\n",
       "      <th>135</th>\n",
       "      <td>1</td>\n",
       "      <td>2012-07-09</td>\n",
       "      <td>1661767.33</td>\n",
       "      <td>1</td>\n",
       "      <td>83.96</td>\n",
       "      <td>3.730</td>\n",
       "      <td>222.439015</td>\n",
       "      <td>6.908</td>\n",
       "      <td>7</td>\n",
       "      <td>2012</td>\n",
       "      <td>28</td>\n",
       "      <td>1</td>\n",
       "      <td>3</td>\n",
       "    </tr>\n",
       "    <tr>\n",
       "      <th>278</th>\n",
       "      <td>2</td>\n",
       "      <td>2012-07-09</td>\n",
       "      <td>1898777.07</td>\n",
       "      <td>1</td>\n",
       "      <td>87.65</td>\n",
       "      <td>3.730</td>\n",
       "      <td>222.074763</td>\n",
       "      <td>6.565</td>\n",
       "      <td>7</td>\n",
       "      <td>2012</td>\n",
       "      <td>28</td>\n",
       "      <td>1</td>\n",
       "      <td>3</td>\n",
       "    </tr>\n",
       "    <tr>\n",
       "      <th>564</th>\n",
       "      <td>4</td>\n",
       "      <td>2012-07-09</td>\n",
       "      <td>2125104.72</td>\n",
       "      <td>1</td>\n",
       "      <td>82.09</td>\n",
       "      <td>3.709</td>\n",
       "      <td>130.932548</td>\n",
       "      <td>4.077</td>\n",
       "      <td>7</td>\n",
       "      <td>2012</td>\n",
       "      <td>28</td>\n",
       "      <td>1</td>\n",
       "      <td>3</td>\n",
       "    </tr>\n",
       "    <tr>\n",
       "      <th>850</th>\n",
       "      <td>6</td>\n",
       "      <td>2012-07-09</td>\n",
       "      <td>1608077.01</td>\n",
       "      <td>1</td>\n",
       "      <td>86.33</td>\n",
       "      <td>3.730</td>\n",
       "      <td>224.056008</td>\n",
       "      <td>5.668</td>\n",
       "      <td>7</td>\n",
       "      <td>2012</td>\n",
       "      <td>28</td>\n",
       "      <td>1</td>\n",
       "      <td>3</td>\n",
       "    </tr>\n",
       "    <tr>\n",
       "      <th>1422</th>\n",
       "      <td>10</td>\n",
       "      <td>2012-07-09</td>\n",
       "      <td>1708283.28</td>\n",
       "      <td>1</td>\n",
       "      <td>83.07</td>\n",
       "      <td>4.124</td>\n",
       "      <td>130.932548</td>\n",
       "      <td>7.170</td>\n",
       "      <td>7</td>\n",
       "      <td>2012</td>\n",
       "      <td>28</td>\n",
       "      <td>1</td>\n",
       "      <td>3</td>\n",
       "    </tr>\n",
       "    <tr>\n",
       "      <th>1565</th>\n",
       "      <td>11</td>\n",
       "      <td>2012-07-09</td>\n",
       "      <td>1304584.40</td>\n",
       "      <td>1</td>\n",
       "      <td>85.17</td>\n",
       "      <td>3.730</td>\n",
       "      <td>225.966026</td>\n",
       "      <td>6.334</td>\n",
       "      <td>7</td>\n",
       "      <td>2012</td>\n",
       "      <td>28</td>\n",
       "      <td>1</td>\n",
       "      <td>3</td>\n",
       "    </tr>\n",
       "    <tr>\n",
       "      <th>1851</th>\n",
       "      <td>13</td>\n",
       "      <td>2012-07-09</td>\n",
       "      <td>2165796.31</td>\n",
       "      <td>1</td>\n",
       "      <td>70.65</td>\n",
       "      <td>3.689</td>\n",
       "      <td>130.932548</td>\n",
       "      <td>5.765</td>\n",
       "      <td>7</td>\n",
       "      <td>2012</td>\n",
       "      <td>28</td>\n",
       "      <td>1</td>\n",
       "      <td>3</td>\n",
       "    </tr>\n",
       "    <tr>\n",
       "      <th>1994</th>\n",
       "      <td>14</td>\n",
       "      <td>2012-07-09</td>\n",
       "      <td>1904512.34</td>\n",
       "      <td>1</td>\n",
       "      <td>75.70</td>\n",
       "      <td>3.911</td>\n",
       "      <td>191.577676</td>\n",
       "      <td>8.684</td>\n",
       "      <td>7</td>\n",
       "      <td>2012</td>\n",
       "      <td>28</td>\n",
       "      <td>1</td>\n",
       "      <td>3</td>\n",
       "    </tr>\n",
       "    <tr>\n",
       "      <th>2423</th>\n",
       "      <td>17</td>\n",
       "      <td>2012-07-09</td>\n",
       "      <td>1255633.29</td>\n",
       "      <td>1</td>\n",
       "      <td>61.99</td>\n",
       "      <td>3.689</td>\n",
       "      <td>130.932548</td>\n",
       "      <td>5.936</td>\n",
       "      <td>7</td>\n",
       "      <td>2012</td>\n",
       "      <td>28</td>\n",
       "      <td>1</td>\n",
       "      <td>3</td>\n",
       "    </tr>\n",
       "    <tr>\n",
       "      <th>2566</th>\n",
       "      <td>18</td>\n",
       "      <td>2012-07-09</td>\n",
       "      <td>1083521.24</td>\n",
       "      <td>1</td>\n",
       "      <td>71.85</td>\n",
       "      <td>3.921</td>\n",
       "      <td>138.472936</td>\n",
       "      <td>8.535</td>\n",
       "      <td>7</td>\n",
       "      <td>2012</td>\n",
       "      <td>28</td>\n",
       "      <td>1</td>\n",
       "      <td>3</td>\n",
       "    </tr>\n",
       "    <tr>\n",
       "      <th>2709</th>\n",
       "      <td>19</td>\n",
       "      <td>2012-07-09</td>\n",
       "      <td>1497073.82</td>\n",
       "      <td>1</td>\n",
       "      <td>72.20</td>\n",
       "      <td>4.076</td>\n",
       "      <td>138.472936</td>\n",
       "      <td>8.193</td>\n",
       "      <td>7</td>\n",
       "      <td>2012</td>\n",
       "      <td>28</td>\n",
       "      <td>1</td>\n",
       "      <td>3</td>\n",
       "    </tr>\n",
       "    <tr>\n",
       "      <th>2852</th>\n",
       "      <td>20</td>\n",
       "      <td>2012-07-09</td>\n",
       "      <td>2080529.06</td>\n",
       "      <td>1</td>\n",
       "      <td>76.36</td>\n",
       "      <td>3.911</td>\n",
       "      <td>215.218957</td>\n",
       "      <td>7.280</td>\n",
       "      <td>7</td>\n",
       "      <td>2012</td>\n",
       "      <td>28</td>\n",
       "      <td>1</td>\n",
       "      <td>3</td>\n",
       "    </tr>\n",
       "    <tr>\n",
       "      <th>3281</th>\n",
       "      <td>23</td>\n",
       "      <td>2012-07-09</td>\n",
       "      <td>1427162.26</td>\n",
       "      <td>1</td>\n",
       "      <td>66.74</td>\n",
       "      <td>3.921</td>\n",
       "      <td>138.472936</td>\n",
       "      <td>4.156</td>\n",
       "      <td>7</td>\n",
       "      <td>2012</td>\n",
       "      <td>28</td>\n",
       "      <td>1</td>\n",
       "      <td>3</td>\n",
       "    </tr>\n",
       "    <tr>\n",
       "      <th>3424</th>\n",
       "      <td>24</td>\n",
       "      <td>2012-07-09</td>\n",
       "      <td>1477134.75</td>\n",
       "      <td>1</td>\n",
       "      <td>72.81</td>\n",
       "      <td>4.076</td>\n",
       "      <td>138.472936</td>\n",
       "      <td>8.953</td>\n",
       "      <td>7</td>\n",
       "      <td>2012</td>\n",
       "      <td>28</td>\n",
       "      <td>1</td>\n",
       "      <td>3</td>\n",
       "    </tr>\n",
       "    <tr>\n",
       "      <th>3710</th>\n",
       "      <td>26</td>\n",
       "      <td>2012-07-09</td>\n",
       "      <td>1081874.03</td>\n",
       "      <td>1</td>\n",
       "      <td>61.58</td>\n",
       "      <td>3.921</td>\n",
       "      <td>138.472936</td>\n",
       "      <td>7.405</td>\n",
       "      <td>7</td>\n",
       "      <td>2012</td>\n",
       "      <td>28</td>\n",
       "      <td>1</td>\n",
       "      <td>3</td>\n",
       "    </tr>\n",
       "    <tr>\n",
       "      <th>3853</th>\n",
       "      <td>27</td>\n",
       "      <td>2012-07-09</td>\n",
       "      <td>1840955.23</td>\n",
       "      <td>1</td>\n",
       "      <td>76.00</td>\n",
       "      <td>4.076</td>\n",
       "      <td>142.500303</td>\n",
       "      <td>8.239</td>\n",
       "      <td>7</td>\n",
       "      <td>2012</td>\n",
       "      <td>28</td>\n",
       "      <td>1</td>\n",
       "      <td>3</td>\n",
       "    </tr>\n",
       "    <tr>\n",
       "      <th>3996</th>\n",
       "      <td>28</td>\n",
       "      <td>2012-07-09</td>\n",
       "      <td>1469693.99</td>\n",
       "      <td>1</td>\n",
       "      <td>88.52</td>\n",
       "      <td>4.124</td>\n",
       "      <td>130.932548</td>\n",
       "      <td>10.926</td>\n",
       "      <td>7</td>\n",
       "      <td>2012</td>\n",
       "      <td>28</td>\n",
       "      <td>1</td>\n",
       "      <td>3</td>\n",
       "    </tr>\n",
       "    <tr>\n",
       "      <th>4425</th>\n",
       "      <td>31</td>\n",
       "      <td>2012-07-09</td>\n",
       "      <td>1358111.62</td>\n",
       "      <td>1</td>\n",
       "      <td>88.40</td>\n",
       "      <td>3.730</td>\n",
       "      <td>222.074763</td>\n",
       "      <td>6.565</td>\n",
       "      <td>7</td>\n",
       "      <td>2012</td>\n",
       "      <td>28</td>\n",
       "      <td>1</td>\n",
       "      <td>3</td>\n",
       "    </tr>\n",
       "    <tr>\n",
       "      <th>4568</th>\n",
       "      <td>32</td>\n",
       "      <td>2012-07-09</td>\n",
       "      <td>1126685.95</td>\n",
       "      <td>1</td>\n",
       "      <td>72.56</td>\n",
       "      <td>3.596</td>\n",
       "      <td>198.095048</td>\n",
       "      <td>7.872</td>\n",
       "      <td>7</td>\n",
       "      <td>2012</td>\n",
       "      <td>28</td>\n",
       "      <td>1</td>\n",
       "      <td>3</td>\n",
       "    </tr>\n",
       "    <tr>\n",
       "      <th>5569</th>\n",
       "      <td>39</td>\n",
       "      <td>2012-07-09</td>\n",
       "      <td>1609811.75</td>\n",
       "      <td>1</td>\n",
       "      <td>83.71</td>\n",
       "      <td>3.730</td>\n",
       "      <td>221.118114</td>\n",
       "      <td>6.623</td>\n",
       "      <td>7</td>\n",
       "      <td>2012</td>\n",
       "      <td>28</td>\n",
       "      <td>1</td>\n",
       "      <td>3</td>\n",
       "    </tr>\n",
       "    <tr>\n",
       "      <th>5712</th>\n",
       "      <td>40</td>\n",
       "      <td>2012-07-09</td>\n",
       "      <td>1088248.40</td>\n",
       "      <td>1</td>\n",
       "      <td>65.06</td>\n",
       "      <td>3.921</td>\n",
       "      <td>138.472936</td>\n",
       "      <td>4.156</td>\n",
       "      <td>7</td>\n",
       "      <td>2012</td>\n",
       "      <td>28</td>\n",
       "      <td>1</td>\n",
       "      <td>3</td>\n",
       "    </tr>\n",
       "    <tr>\n",
       "      <th>5855</th>\n",
       "      <td>41</td>\n",
       "      <td>2012-07-09</td>\n",
       "      <td>1392143.82</td>\n",
       "      <td>1</td>\n",
       "      <td>67.41</td>\n",
       "      <td>3.596</td>\n",
       "      <td>198.095048</td>\n",
       "      <td>6.432</td>\n",
       "      <td>7</td>\n",
       "      <td>2012</td>\n",
       "      <td>28</td>\n",
       "      <td>1</td>\n",
       "      <td>3</td>\n",
       "    </tr>\n",
       "  </tbody>\n",
       "</table>\n",
       "</div>"
      ],
      "text/plain": [
       "     Store       Date  Weekly_Sales Holiday_Flag  Temperature  Fuel_Price  \\\n",
       "135      1 2012-07-09    1661767.33            1        83.96       3.730   \n",
       "278      2 2012-07-09    1898777.07            1        87.65       3.730   \n",
       "564      4 2012-07-09    2125104.72            1        82.09       3.709   \n",
       "850      6 2012-07-09    1608077.01            1        86.33       3.730   \n",
       "1422    10 2012-07-09    1708283.28            1        83.07       4.124   \n",
       "1565    11 2012-07-09    1304584.40            1        85.17       3.730   \n",
       "1851    13 2012-07-09    2165796.31            1        70.65       3.689   \n",
       "1994    14 2012-07-09    1904512.34            1        75.70       3.911   \n",
       "2423    17 2012-07-09    1255633.29            1        61.99       3.689   \n",
       "2566    18 2012-07-09    1083521.24            1        71.85       3.921   \n",
       "2709    19 2012-07-09    1497073.82            1        72.20       4.076   \n",
       "2852    20 2012-07-09    2080529.06            1        76.36       3.911   \n",
       "3281    23 2012-07-09    1427162.26            1        66.74       3.921   \n",
       "3424    24 2012-07-09    1477134.75            1        72.81       4.076   \n",
       "3710    26 2012-07-09    1081874.03            1        61.58       3.921   \n",
       "3853    27 2012-07-09    1840955.23            1        76.00       4.076   \n",
       "3996    28 2012-07-09    1469693.99            1        88.52       4.124   \n",
       "4425    31 2012-07-09    1358111.62            1        88.40       3.730   \n",
       "4568    32 2012-07-09    1126685.95            1        72.56       3.596   \n",
       "5569    39 2012-07-09    1609811.75            1        83.71       3.730   \n",
       "5712    40 2012-07-09    1088248.40            1        65.06       3.921   \n",
       "5855    41 2012-07-09    1392143.82            1        67.41       3.596   \n",
       "\n",
       "             CPI  Unemployment month  year week  day  Q  \n",
       "135   222.439015         6.908     7  2012   28    1  3  \n",
       "278   222.074763         6.565     7  2012   28    1  3  \n",
       "564   130.932548         4.077     7  2012   28    1  3  \n",
       "850   224.056008         5.668     7  2012   28    1  3  \n",
       "1422  130.932548         7.170     7  2012   28    1  3  \n",
       "1565  225.966026         6.334     7  2012   28    1  3  \n",
       "1851  130.932548         5.765     7  2012   28    1  3  \n",
       "1994  191.577676         8.684     7  2012   28    1  3  \n",
       "2423  130.932548         5.936     7  2012   28    1  3  \n",
       "2566  138.472936         8.535     7  2012   28    1  3  \n",
       "2709  138.472936         8.193     7  2012   28    1  3  \n",
       "2852  215.218957         7.280     7  2012   28    1  3  \n",
       "3281  138.472936         4.156     7  2012   28    1  3  \n",
       "3424  138.472936         8.953     7  2012   28    1  3  \n",
       "3710  138.472936         7.405     7  2012   28    1  3  \n",
       "3853  142.500303         8.239     7  2012   28    1  3  \n",
       "3996  130.932548        10.926     7  2012   28    1  3  \n",
       "4425  222.074763         6.565     7  2012   28    1  3  \n",
       "4568  198.095048         7.872     7  2012   28    1  3  \n",
       "5569  221.118114         6.623     7  2012   28    1  3  \n",
       "5712  138.472936         4.156     7  2012   28    1  3  \n",
       "5855  198.095048         6.432     7  2012   28    1  3  "
      ]
     },
     "execution_count": 38,
     "metadata": {},
     "output_type": "execute_result"
    }
   ],
   "source": [
    "#stores having more that mean of non-holiday sales.(Labour_day)\n",
    "Labourday[Labourday[\"Weekly_Sales\"]>mean_without_holidays]\n",
    "#labourday has higher sales than mean  non-holiday sales."
   ]
  },
  {
   "cell_type": "code",
   "execution_count": 39,
   "metadata": {},
   "outputs": [
    {
     "data": {
      "text/plain": [
       "array(['2010-11-26T00:00:00.000000000', '2011-11-25T00:00:00.000000000'],\n",
       "      dtype='datetime64[ns]')"
      ]
     },
     "execution_count": 39,
     "metadata": {},
     "output_type": "execute_result"
    }
   ],
   "source": [
    "thnksg = thanksg[thanksg[\"week\"]==47]\n",
    "thnksg[\"Date\"].unique() #contains 2 days 26 and 25 but thanksgiving was only on 26th"
   ]
  },
  {
   "cell_type": "code",
   "execution_count": 40,
   "metadata": {},
   "outputs": [],
   "source": [
    "thankgiving = thnksg[thnksg[\"Date\"]=='2011-11-25T00:00:00.000000000']"
   ]
  },
  {
   "cell_type": "code",
   "execution_count": 41,
   "metadata": {},
   "outputs": [
    {
     "data": {
      "text/html": [
       "<div>\n",
       "<style scoped>\n",
       "    .dataframe tbody tr th:only-of-type {\n",
       "        vertical-align: middle;\n",
       "    }\n",
       "\n",
       "    .dataframe tbody tr th {\n",
       "        vertical-align: top;\n",
       "    }\n",
       "\n",
       "    .dataframe thead th {\n",
       "        text-align: right;\n",
       "    }\n",
       "</style>\n",
       "<table border=\"1\" class=\"dataframe\">\n",
       "  <thead>\n",
       "    <tr style=\"text-align: right;\">\n",
       "      <th></th>\n",
       "      <th>Store</th>\n",
       "      <th>Date</th>\n",
       "      <th>Weekly_Sales</th>\n",
       "      <th>Holiday_Flag</th>\n",
       "      <th>Temperature</th>\n",
       "      <th>Fuel_Price</th>\n",
       "      <th>CPI</th>\n",
       "      <th>Unemployment</th>\n",
       "      <th>month</th>\n",
       "      <th>year</th>\n",
       "      <th>week</th>\n",
       "      <th>day</th>\n",
       "      <th>Q</th>\n",
       "    </tr>\n",
       "  </thead>\n",
       "  <tbody>\n",
       "    <tr>\n",
       "      <th>94</th>\n",
       "      <td>1</td>\n",
       "      <td>2011-11-25</td>\n",
       "      <td>2033320.66</td>\n",
       "      <td>1</td>\n",
       "      <td>60.14</td>\n",
       "      <td>3.236</td>\n",
       "      <td>218.467621</td>\n",
       "      <td>7.866</td>\n",
       "      <td>11</td>\n",
       "      <td>2011</td>\n",
       "      <td>47</td>\n",
       "      <td>5</td>\n",
       "      <td>4</td>\n",
       "    </tr>\n",
       "    <tr>\n",
       "      <th>237</th>\n",
       "      <td>2</td>\n",
       "      <td>2011-11-25</td>\n",
       "      <td>2614202.30</td>\n",
       "      <td>1</td>\n",
       "      <td>56.36</td>\n",
       "      <td>3.236</td>\n",
       "      <td>218.113027</td>\n",
       "      <td>7.441</td>\n",
       "      <td>11</td>\n",
       "      <td>2011</td>\n",
       "      <td>47</td>\n",
       "      <td>5</td>\n",
       "      <td>4</td>\n",
       "    </tr>\n",
       "    <tr>\n",
       "      <th>523</th>\n",
       "      <td>4</td>\n",
       "      <td>2011-11-25</td>\n",
       "      <td>3004702.33</td>\n",
       "      <td>1</td>\n",
       "      <td>47.96</td>\n",
       "      <td>3.225</td>\n",
       "      <td>129.836400</td>\n",
       "      <td>5.143</td>\n",
       "      <td>11</td>\n",
       "      <td>2011</td>\n",
       "      <td>47</td>\n",
       "      <td>5</td>\n",
       "      <td>4</td>\n",
       "    </tr>\n",
       "    <tr>\n",
       "      <th>809</th>\n",
       "      <td>6</td>\n",
       "      <td>2011-11-25</td>\n",
       "      <td>2249811.55</td>\n",
       "      <td>1</td>\n",
       "      <td>62.78</td>\n",
       "      <td>3.236</td>\n",
       "      <td>220.041741</td>\n",
       "      <td>6.551</td>\n",
       "      <td>11</td>\n",
       "      <td>2011</td>\n",
       "      <td>47</td>\n",
       "      <td>5</td>\n",
       "      <td>4</td>\n",
       "    </tr>\n",
       "    <tr>\n",
       "      <th>1095</th>\n",
       "      <td>8</td>\n",
       "      <td>2011-11-25</td>\n",
       "      <td>1235163.86</td>\n",
       "      <td>1</td>\n",
       "      <td>49.61</td>\n",
       "      <td>3.236</td>\n",
       "      <td>221.949157</td>\n",
       "      <td>6.123</td>\n",
       "      <td>11</td>\n",
       "      <td>2011</td>\n",
       "      <td>47</td>\n",
       "      <td>5</td>\n",
       "      <td>4</td>\n",
       "    </tr>\n",
       "    <tr>\n",
       "      <th>1381</th>\n",
       "      <td>10</td>\n",
       "      <td>2011-11-25</td>\n",
       "      <td>2950198.64</td>\n",
       "      <td>1</td>\n",
       "      <td>60.68</td>\n",
       "      <td>3.760</td>\n",
       "      <td>129.836400</td>\n",
       "      <td>7.874</td>\n",
       "      <td>11</td>\n",
       "      <td>2011</td>\n",
       "      <td>47</td>\n",
       "      <td>5</td>\n",
       "      <td>4</td>\n",
       "    </tr>\n",
       "    <tr>\n",
       "      <th>1524</th>\n",
       "      <td>11</td>\n",
       "      <td>2011-11-25</td>\n",
       "      <td>1848953.48</td>\n",
       "      <td>1</td>\n",
       "      <td>70.03</td>\n",
       "      <td>3.236</td>\n",
       "      <td>221.901118</td>\n",
       "      <td>7.197</td>\n",
       "      <td>11</td>\n",
       "      <td>2011</td>\n",
       "      <td>47</td>\n",
       "      <td>5</td>\n",
       "      <td>4</td>\n",
       "    </tr>\n",
       "    <tr>\n",
       "      <th>1667</th>\n",
       "      <td>12</td>\n",
       "      <td>2011-11-25</td>\n",
       "      <td>1591920.42</td>\n",
       "      <td>1</td>\n",
       "      <td>53.25</td>\n",
       "      <td>3.622</td>\n",
       "      <td>129.836400</td>\n",
       "      <td>12.890</td>\n",
       "      <td>11</td>\n",
       "      <td>2011</td>\n",
       "      <td>47</td>\n",
       "      <td>5</td>\n",
       "      <td>4</td>\n",
       "    </tr>\n",
       "    <tr>\n",
       "      <th>1810</th>\n",
       "      <td>13</td>\n",
       "      <td>2011-11-25</td>\n",
       "      <td>2864170.61</td>\n",
       "      <td>1</td>\n",
       "      <td>38.89</td>\n",
       "      <td>3.445</td>\n",
       "      <td>129.836400</td>\n",
       "      <td>6.392</td>\n",
       "      <td>11</td>\n",
       "      <td>2011</td>\n",
       "      <td>47</td>\n",
       "      <td>5</td>\n",
       "      <td>4</td>\n",
       "    </tr>\n",
       "    <tr>\n",
       "      <th>1953</th>\n",
       "      <td>14</td>\n",
       "      <td>2011-11-25</td>\n",
       "      <td>2685351.81</td>\n",
       "      <td>1</td>\n",
       "      <td>48.71</td>\n",
       "      <td>3.492</td>\n",
       "      <td>188.350400</td>\n",
       "      <td>8.523</td>\n",
       "      <td>11</td>\n",
       "      <td>2011</td>\n",
       "      <td>47</td>\n",
       "      <td>5</td>\n",
       "      <td>4</td>\n",
       "    </tr>\n",
       "    <tr>\n",
       "      <th>2096</th>\n",
       "      <td>15</td>\n",
       "      <td>2011-11-25</td>\n",
       "      <td>1066478.10</td>\n",
       "      <td>1</td>\n",
       "      <td>41.10</td>\n",
       "      <td>3.689</td>\n",
       "      <td>136.478800</td>\n",
       "      <td>7.866</td>\n",
       "      <td>11</td>\n",
       "      <td>2011</td>\n",
       "      <td>47</td>\n",
       "      <td>5</td>\n",
       "      <td>4</td>\n",
       "    </tr>\n",
       "    <tr>\n",
       "      <th>2382</th>\n",
       "      <td>17</td>\n",
       "      <td>2011-11-25</td>\n",
       "      <td>1225700.28</td>\n",
       "      <td>1</td>\n",
       "      <td>32.81</td>\n",
       "      <td>3.445</td>\n",
       "      <td>129.836400</td>\n",
       "      <td>6.617</td>\n",
       "      <td>11</td>\n",
       "      <td>2011</td>\n",
       "      <td>47</td>\n",
       "      <td>5</td>\n",
       "      <td>4</td>\n",
       "    </tr>\n",
       "    <tr>\n",
       "      <th>2525</th>\n",
       "      <td>18</td>\n",
       "      <td>2011-11-25</td>\n",
       "      <td>1624170.99</td>\n",
       "      <td>1</td>\n",
       "      <td>41.97</td>\n",
       "      <td>3.536</td>\n",
       "      <td>136.478800</td>\n",
       "      <td>8.471</td>\n",
       "      <td>11</td>\n",
       "      <td>2011</td>\n",
       "      <td>47</td>\n",
       "      <td>5</td>\n",
       "      <td>4</td>\n",
       "    </tr>\n",
       "    <tr>\n",
       "      <th>2668</th>\n",
       "      <td>19</td>\n",
       "      <td>2011-11-25</td>\n",
       "      <td>1974646.78</td>\n",
       "      <td>1</td>\n",
       "      <td>42.75</td>\n",
       "      <td>3.689</td>\n",
       "      <td>136.478800</td>\n",
       "      <td>7.866</td>\n",
       "      <td>11</td>\n",
       "      <td>2011</td>\n",
       "      <td>47</td>\n",
       "      <td>5</td>\n",
       "      <td>4</td>\n",
       "    </tr>\n",
       "    <tr>\n",
       "      <th>2811</th>\n",
       "      <td>20</td>\n",
       "      <td>2011-11-25</td>\n",
       "      <td>2906233.25</td>\n",
       "      <td>1</td>\n",
       "      <td>46.38</td>\n",
       "      <td>3.492</td>\n",
       "      <td>211.412076</td>\n",
       "      <td>7.082</td>\n",
       "      <td>11</td>\n",
       "      <td>2011</td>\n",
       "      <td>47</td>\n",
       "      <td>5</td>\n",
       "      <td>4</td>\n",
       "    </tr>\n",
       "    <tr>\n",
       "      <th>2954</th>\n",
       "      <td>21</td>\n",
       "      <td>2011-11-25</td>\n",
       "      <td>1219263.40</td>\n",
       "      <td>1</td>\n",
       "      <td>56.43</td>\n",
       "      <td>3.236</td>\n",
       "      <td>218.113027</td>\n",
       "      <td>7.441</td>\n",
       "      <td>11</td>\n",
       "      <td>2011</td>\n",
       "      <td>47</td>\n",
       "      <td>5</td>\n",
       "      <td>4</td>\n",
       "    </tr>\n",
       "    <tr>\n",
       "      <th>3097</th>\n",
       "      <td>22</td>\n",
       "      <td>2011-11-25</td>\n",
       "      <td>1535857.49</td>\n",
       "      <td>1</td>\n",
       "      <td>46.28</td>\n",
       "      <td>3.536</td>\n",
       "      <td>140.421786</td>\n",
       "      <td>7.706</td>\n",
       "      <td>11</td>\n",
       "      <td>2011</td>\n",
       "      <td>47</td>\n",
       "      <td>5</td>\n",
       "      <td>4</td>\n",
       "    </tr>\n",
       "    <tr>\n",
       "      <th>3240</th>\n",
       "      <td>23</td>\n",
       "      <td>2011-11-25</td>\n",
       "      <td>2057059.53</td>\n",
       "      <td>1</td>\n",
       "      <td>35.23</td>\n",
       "      <td>3.536</td>\n",
       "      <td>136.478800</td>\n",
       "      <td>4.420</td>\n",
       "      <td>11</td>\n",
       "      <td>2011</td>\n",
       "      <td>47</td>\n",
       "      <td>5</td>\n",
       "      <td>4</td>\n",
       "    </tr>\n",
       "    <tr>\n",
       "      <th>3383</th>\n",
       "      <td>24</td>\n",
       "      <td>2011-11-25</td>\n",
       "      <td>1761235.67</td>\n",
       "      <td>1</td>\n",
       "      <td>41.83</td>\n",
       "      <td>3.689</td>\n",
       "      <td>136.478800</td>\n",
       "      <td>8.454</td>\n",
       "      <td>11</td>\n",
       "      <td>2011</td>\n",
       "      <td>47</td>\n",
       "      <td>5</td>\n",
       "      <td>4</td>\n",
       "    </tr>\n",
       "    <tr>\n",
       "      <th>3526</th>\n",
       "      <td>25</td>\n",
       "      <td>2011-11-25</td>\n",
       "      <td>1116211.39</td>\n",
       "      <td>1</td>\n",
       "      <td>43.49</td>\n",
       "      <td>3.492</td>\n",
       "      <td>211.412076</td>\n",
       "      <td>7.082</td>\n",
       "      <td>11</td>\n",
       "      <td>2011</td>\n",
       "      <td>47</td>\n",
       "      <td>5</td>\n",
       "      <td>4</td>\n",
       "    </tr>\n",
       "    <tr>\n",
       "      <th>3669</th>\n",
       "      <td>26</td>\n",
       "      <td>2011-11-25</td>\n",
       "      <td>1282320.05</td>\n",
       "      <td>1</td>\n",
       "      <td>31.07</td>\n",
       "      <td>3.536</td>\n",
       "      <td>136.478800</td>\n",
       "      <td>7.598</td>\n",
       "      <td>11</td>\n",
       "      <td>2011</td>\n",
       "      <td>47</td>\n",
       "      <td>5</td>\n",
       "      <td>4</td>\n",
       "    </tr>\n",
       "    <tr>\n",
       "      <th>3812</th>\n",
       "      <td>27</td>\n",
       "      <td>2011-11-25</td>\n",
       "      <td>2504400.71</td>\n",
       "      <td>1</td>\n",
       "      <td>47.88</td>\n",
       "      <td>3.689</td>\n",
       "      <td>140.421786</td>\n",
       "      <td>7.906</td>\n",
       "      <td>11</td>\n",
       "      <td>2011</td>\n",
       "      <td>47</td>\n",
       "      <td>5</td>\n",
       "      <td>4</td>\n",
       "    </tr>\n",
       "    <tr>\n",
       "      <th>3955</th>\n",
       "      <td>28</td>\n",
       "      <td>2011-11-25</td>\n",
       "      <td>1929738.27</td>\n",
       "      <td>1</td>\n",
       "      <td>53.25</td>\n",
       "      <td>3.622</td>\n",
       "      <td>129.836400</td>\n",
       "      <td>12.890</td>\n",
       "      <td>11</td>\n",
       "      <td>2011</td>\n",
       "      <td>47</td>\n",
       "      <td>5</td>\n",
       "      <td>4</td>\n",
       "    </tr>\n",
       "    <tr>\n",
       "      <th>4384</th>\n",
       "      <td>31</td>\n",
       "      <td>2011-11-25</td>\n",
       "      <td>1934099.65</td>\n",
       "      <td>1</td>\n",
       "      <td>56.43</td>\n",
       "      <td>3.236</td>\n",
       "      <td>218.113027</td>\n",
       "      <td>7.441</td>\n",
       "      <td>11</td>\n",
       "      <td>2011</td>\n",
       "      <td>47</td>\n",
       "      <td>5</td>\n",
       "      <td>4</td>\n",
       "    </tr>\n",
       "    <tr>\n",
       "      <th>4527</th>\n",
       "      <td>32</td>\n",
       "      <td>2011-11-25</td>\n",
       "      <td>1684468.66</td>\n",
       "      <td>1</td>\n",
       "      <td>40.22</td>\n",
       "      <td>3.424</td>\n",
       "      <td>195.770400</td>\n",
       "      <td>8.513</td>\n",
       "      <td>11</td>\n",
       "      <td>2011</td>\n",
       "      <td>47</td>\n",
       "      <td>5</td>\n",
       "      <td>4</td>\n",
       "    </tr>\n",
       "    <tr>\n",
       "      <th>4813</th>\n",
       "      <td>34</td>\n",
       "      <td>2011-11-25</td>\n",
       "      <td>1345595.82</td>\n",
       "      <td>1</td>\n",
       "      <td>45.99</td>\n",
       "      <td>3.225</td>\n",
       "      <td>129.836400</td>\n",
       "      <td>10.148</td>\n",
       "      <td>11</td>\n",
       "      <td>2011</td>\n",
       "      <td>47</td>\n",
       "      <td>5</td>\n",
       "      <td>4</td>\n",
       "    </tr>\n",
       "    <tr>\n",
       "      <th>4956</th>\n",
       "      <td>35</td>\n",
       "      <td>2011-11-25</td>\n",
       "      <td>1733822.40</td>\n",
       "      <td>1</td>\n",
       "      <td>47.88</td>\n",
       "      <td>3.492</td>\n",
       "      <td>140.421786</td>\n",
       "      <td>8.745</td>\n",
       "      <td>11</td>\n",
       "      <td>2011</td>\n",
       "      <td>47</td>\n",
       "      <td>5</td>\n",
       "      <td>4</td>\n",
       "    </tr>\n",
       "    <tr>\n",
       "      <th>5528</th>\n",
       "      <td>39</td>\n",
       "      <td>2011-11-25</td>\n",
       "      <td>2338832.40</td>\n",
       "      <td>1</td>\n",
       "      <td>66.36</td>\n",
       "      <td>3.236</td>\n",
       "      <td>217.181253</td>\n",
       "      <td>7.716</td>\n",
       "      <td>11</td>\n",
       "      <td>2011</td>\n",
       "      <td>47</td>\n",
       "      <td>5</td>\n",
       "      <td>4</td>\n",
       "    </tr>\n",
       "    <tr>\n",
       "      <th>5671</th>\n",
       "      <td>40</td>\n",
       "      <td>2011-11-25</td>\n",
       "      <td>1230011.95</td>\n",
       "      <td>1</td>\n",
       "      <td>32.76</td>\n",
       "      <td>3.536</td>\n",
       "      <td>136.478800</td>\n",
       "      <td>4.420</td>\n",
       "      <td>11</td>\n",
       "      <td>2011</td>\n",
       "      <td>47</td>\n",
       "      <td>5</td>\n",
       "      <td>4</td>\n",
       "    </tr>\n",
       "    <tr>\n",
       "      <th>5814</th>\n",
       "      <td>41</td>\n",
       "      <td>2011-11-25</td>\n",
       "      <td>1906713.35</td>\n",
       "      <td>1</td>\n",
       "      <td>36.37</td>\n",
       "      <td>3.424</td>\n",
       "      <td>195.770400</td>\n",
       "      <td>6.759</td>\n",
       "      <td>11</td>\n",
       "      <td>2011</td>\n",
       "      <td>47</td>\n",
       "      <td>5</td>\n",
       "      <td>4</td>\n",
       "    </tr>\n",
       "    <tr>\n",
       "      <th>6386</th>\n",
       "      <td>45</td>\n",
       "      <td>2011-11-25</td>\n",
       "      <td>1170672.94</td>\n",
       "      <td>1</td>\n",
       "      <td>48.71</td>\n",
       "      <td>3.492</td>\n",
       "      <td>188.350400</td>\n",
       "      <td>8.523</td>\n",
       "      <td>11</td>\n",
       "      <td>2011</td>\n",
       "      <td>47</td>\n",
       "      <td>5</td>\n",
       "      <td>4</td>\n",
       "    </tr>\n",
       "  </tbody>\n",
       "</table>\n",
       "</div>"
      ],
      "text/plain": [
       "     Store       Date  Weekly_Sales Holiday_Flag  Temperature  Fuel_Price  \\\n",
       "94       1 2011-11-25    2033320.66            1        60.14       3.236   \n",
       "237      2 2011-11-25    2614202.30            1        56.36       3.236   \n",
       "523      4 2011-11-25    3004702.33            1        47.96       3.225   \n",
       "809      6 2011-11-25    2249811.55            1        62.78       3.236   \n",
       "1095     8 2011-11-25    1235163.86            1        49.61       3.236   \n",
       "1381    10 2011-11-25    2950198.64            1        60.68       3.760   \n",
       "1524    11 2011-11-25    1848953.48            1        70.03       3.236   \n",
       "1667    12 2011-11-25    1591920.42            1        53.25       3.622   \n",
       "1810    13 2011-11-25    2864170.61            1        38.89       3.445   \n",
       "1953    14 2011-11-25    2685351.81            1        48.71       3.492   \n",
       "2096    15 2011-11-25    1066478.10            1        41.10       3.689   \n",
       "2382    17 2011-11-25    1225700.28            1        32.81       3.445   \n",
       "2525    18 2011-11-25    1624170.99            1        41.97       3.536   \n",
       "2668    19 2011-11-25    1974646.78            1        42.75       3.689   \n",
       "2811    20 2011-11-25    2906233.25            1        46.38       3.492   \n",
       "2954    21 2011-11-25    1219263.40            1        56.43       3.236   \n",
       "3097    22 2011-11-25    1535857.49            1        46.28       3.536   \n",
       "3240    23 2011-11-25    2057059.53            1        35.23       3.536   \n",
       "3383    24 2011-11-25    1761235.67            1        41.83       3.689   \n",
       "3526    25 2011-11-25    1116211.39            1        43.49       3.492   \n",
       "3669    26 2011-11-25    1282320.05            1        31.07       3.536   \n",
       "3812    27 2011-11-25    2504400.71            1        47.88       3.689   \n",
       "3955    28 2011-11-25    1929738.27            1        53.25       3.622   \n",
       "4384    31 2011-11-25    1934099.65            1        56.43       3.236   \n",
       "4527    32 2011-11-25    1684468.66            1        40.22       3.424   \n",
       "4813    34 2011-11-25    1345595.82            1        45.99       3.225   \n",
       "4956    35 2011-11-25    1733822.40            1        47.88       3.492   \n",
       "5528    39 2011-11-25    2338832.40            1        66.36       3.236   \n",
       "5671    40 2011-11-25    1230011.95            1        32.76       3.536   \n",
       "5814    41 2011-11-25    1906713.35            1        36.37       3.424   \n",
       "6386    45 2011-11-25    1170672.94            1        48.71       3.492   \n",
       "\n",
       "             CPI  Unemployment month  year week  day  Q  \n",
       "94    218.467621         7.866    11  2011   47    5  4  \n",
       "237   218.113027         7.441    11  2011   47    5  4  \n",
       "523   129.836400         5.143    11  2011   47    5  4  \n",
       "809   220.041741         6.551    11  2011   47    5  4  \n",
       "1095  221.949157         6.123    11  2011   47    5  4  \n",
       "1381  129.836400         7.874    11  2011   47    5  4  \n",
       "1524  221.901118         7.197    11  2011   47    5  4  \n",
       "1667  129.836400        12.890    11  2011   47    5  4  \n",
       "1810  129.836400         6.392    11  2011   47    5  4  \n",
       "1953  188.350400         8.523    11  2011   47    5  4  \n",
       "2096  136.478800         7.866    11  2011   47    5  4  \n",
       "2382  129.836400         6.617    11  2011   47    5  4  \n",
       "2525  136.478800         8.471    11  2011   47    5  4  \n",
       "2668  136.478800         7.866    11  2011   47    5  4  \n",
       "2811  211.412076         7.082    11  2011   47    5  4  \n",
       "2954  218.113027         7.441    11  2011   47    5  4  \n",
       "3097  140.421786         7.706    11  2011   47    5  4  \n",
       "3240  136.478800         4.420    11  2011   47    5  4  \n",
       "3383  136.478800         8.454    11  2011   47    5  4  \n",
       "3526  211.412076         7.082    11  2011   47    5  4  \n",
       "3669  136.478800         7.598    11  2011   47    5  4  \n",
       "3812  140.421786         7.906    11  2011   47    5  4  \n",
       "3955  129.836400        12.890    11  2011   47    5  4  \n",
       "4384  218.113027         7.441    11  2011   47    5  4  \n",
       "4527  195.770400         8.513    11  2011   47    5  4  \n",
       "4813  129.836400        10.148    11  2011   47    5  4  \n",
       "4956  140.421786         8.745    11  2011   47    5  4  \n",
       "5528  217.181253         7.716    11  2011   47    5  4  \n",
       "5671  136.478800         4.420    11  2011   47    5  4  \n",
       "5814  195.770400         6.759    11  2011   47    5  4  \n",
       "6386  188.350400         8.523    11  2011   47    5  4  "
      ]
     },
     "execution_count": 41,
     "metadata": {},
     "output_type": "execute_result"
    }
   ],
   "source": [
    "#thanksgiving holiday also have positive effect on sales on most stores\n",
    "thankgiving[thankgiving[\"Weekly_Sales\"]>mean_without_holidays]"
   ]
  },
  {
   "cell_type": "code",
   "execution_count": 42,
   "metadata": {},
   "outputs": [
    {
     "data": {
      "text/plain": [
       "array(['2010-12-02T00:00:00.000000000', '2010-12-31T00:00:00.000000000',\n",
       "       '2011-12-30T00:00:00.000000000'], dtype='datetime64[ns]')"
      ]
     },
     "execution_count": 42,
     "metadata": {},
     "output_type": "execute_result"
    }
   ],
   "source": [
    "chritmas[\"Date\"].unique()  #only 30th and 31st are holidays not 2nd"
   ]
  },
  {
   "cell_type": "code",
   "execution_count": 43,
   "metadata": {},
   "outputs": [],
   "source": [
    "Christmas = chritmas[chritmas[\"Date\"]!='2010-12-02T00:00:00.000000000']\n"
   ]
  },
  {
   "cell_type": "code",
   "execution_count": 44,
   "metadata": {},
   "outputs": [
    {
     "data": {
      "text/html": [
       "<div>\n",
       "<style scoped>\n",
       "    .dataframe tbody tr th:only-of-type {\n",
       "        vertical-align: middle;\n",
       "    }\n",
       "\n",
       "    .dataframe tbody tr th {\n",
       "        vertical-align: top;\n",
       "    }\n",
       "\n",
       "    .dataframe thead th {\n",
       "        text-align: right;\n",
       "    }\n",
       "</style>\n",
       "<table border=\"1\" class=\"dataframe\">\n",
       "  <thead>\n",
       "    <tr style=\"text-align: right;\">\n",
       "      <th></th>\n",
       "      <th>Store</th>\n",
       "      <th>Date</th>\n",
       "      <th>Weekly_Sales</th>\n",
       "      <th>Holiday_Flag</th>\n",
       "      <th>Temperature</th>\n",
       "      <th>Fuel_Price</th>\n",
       "      <th>CPI</th>\n",
       "      <th>Unemployment</th>\n",
       "      <th>month</th>\n",
       "      <th>year</th>\n",
       "      <th>week</th>\n",
       "      <th>day</th>\n",
       "      <th>Q</th>\n",
       "    </tr>\n",
       "  </thead>\n",
       "  <tbody>\n",
       "    <tr>\n",
       "      <th>47</th>\n",
       "      <td>1</td>\n",
       "      <td>2010-12-31</td>\n",
       "      <td>1367320.01</td>\n",
       "      <td>1</td>\n",
       "      <td>48.43</td>\n",
       "      <td>2.943</td>\n",
       "      <td>211.404932</td>\n",
       "      <td>7.838</td>\n",
       "      <td>12</td>\n",
       "      <td>2010</td>\n",
       "      <td>52</td>\n",
       "      <td>5</td>\n",
       "      <td>4</td>\n",
       "    </tr>\n",
       "    <tr>\n",
       "      <th>99</th>\n",
       "      <td>1</td>\n",
       "      <td>2011-12-30</td>\n",
       "      <td>1497462.72</td>\n",
       "      <td>1</td>\n",
       "      <td>44.55</td>\n",
       "      <td>3.129</td>\n",
       "      <td>219.535990</td>\n",
       "      <td>7.866</td>\n",
       "      <td>12</td>\n",
       "      <td>2011</td>\n",
       "      <td>52</td>\n",
       "      <td>5</td>\n",
       "      <td>4</td>\n",
       "    </tr>\n",
       "    <tr>\n",
       "      <th>190</th>\n",
       "      <td>2</td>\n",
       "      <td>2010-12-31</td>\n",
       "      <td>1750434.55</td>\n",
       "      <td>1</td>\n",
       "      <td>47.30</td>\n",
       "      <td>2.943</td>\n",
       "      <td>211.064774</td>\n",
       "      <td>8.163</td>\n",
       "      <td>12</td>\n",
       "      <td>2010</td>\n",
       "      <td>52</td>\n",
       "      <td>5</td>\n",
       "      <td>4</td>\n",
       "    </tr>\n",
       "    <tr>\n",
       "      <th>242</th>\n",
       "      <td>2</td>\n",
       "      <td>2011-12-30</td>\n",
       "      <td>1874226.52</td>\n",
       "      <td>1</td>\n",
       "      <td>44.57</td>\n",
       "      <td>3.129</td>\n",
       "      <td>219.177306</td>\n",
       "      <td>7.441</td>\n",
       "      <td>12</td>\n",
       "      <td>2011</td>\n",
       "      <td>52</td>\n",
       "      <td>5</td>\n",
       "      <td>4</td>\n",
       "    </tr>\n",
       "    <tr>\n",
       "      <th>476</th>\n",
       "      <td>4</td>\n",
       "      <td>2010-12-31</td>\n",
       "      <td>1794868.74</td>\n",
       "      <td>1</td>\n",
       "      <td>38.09</td>\n",
       "      <td>2.955</td>\n",
       "      <td>127.087677</td>\n",
       "      <td>7.127</td>\n",
       "      <td>12</td>\n",
       "      <td>2010</td>\n",
       "      <td>52</td>\n",
       "      <td>5</td>\n",
       "      <td>4</td>\n",
       "    </tr>\n",
       "    <tr>\n",
       "      <th>528</th>\n",
       "      <td>4</td>\n",
       "      <td>2011-12-30</td>\n",
       "      <td>2007105.86</td>\n",
       "      <td>1</td>\n",
       "      <td>36.89</td>\n",
       "      <td>3.119</td>\n",
       "      <td>130.071032</td>\n",
       "      <td>5.143</td>\n",
       "      <td>12</td>\n",
       "      <td>2011</td>\n",
       "      <td>52</td>\n",
       "      <td>5</td>\n",
       "      <td>4</td>\n",
       "    </tr>\n",
       "    <tr>\n",
       "      <th>762</th>\n",
       "      <td>6</td>\n",
       "      <td>2010-12-31</td>\n",
       "      <td>1464050.02</td>\n",
       "      <td>1</td>\n",
       "      <td>49.14</td>\n",
       "      <td>2.943</td>\n",
       "      <td>212.914967</td>\n",
       "      <td>7.007</td>\n",
       "      <td>12</td>\n",
       "      <td>2010</td>\n",
       "      <td>52</td>\n",
       "      <td>5</td>\n",
       "      <td>4</td>\n",
       "    </tr>\n",
       "    <tr>\n",
       "      <th>814</th>\n",
       "      <td>6</td>\n",
       "      <td>2011-12-30</td>\n",
       "      <td>1598080.52</td>\n",
       "      <td>1</td>\n",
       "      <td>46.80</td>\n",
       "      <td>3.129</td>\n",
       "      <td>221.128263</td>\n",
       "      <td>6.551</td>\n",
       "      <td>12</td>\n",
       "      <td>2011</td>\n",
       "      <td>52</td>\n",
       "      <td>5</td>\n",
       "      <td>4</td>\n",
       "    </tr>\n",
       "    <tr>\n",
       "      <th>1334</th>\n",
       "      <td>10</td>\n",
       "      <td>2010-12-31</td>\n",
       "      <td>1707298.14</td>\n",
       "      <td>1</td>\n",
       "      <td>49.67</td>\n",
       "      <td>3.148</td>\n",
       "      <td>127.087677</td>\n",
       "      <td>9.003</td>\n",
       "      <td>12</td>\n",
       "      <td>2010</td>\n",
       "      <td>52</td>\n",
       "      <td>5</td>\n",
       "      <td>4</td>\n",
       "    </tr>\n",
       "    <tr>\n",
       "      <th>1386</th>\n",
       "      <td>10</td>\n",
       "      <td>2011-12-30</td>\n",
       "      <td>1930690.37</td>\n",
       "      <td>1</td>\n",
       "      <td>48.92</td>\n",
       "      <td>3.428</td>\n",
       "      <td>130.071032</td>\n",
       "      <td>7.874</td>\n",
       "      <td>12</td>\n",
       "      <td>2011</td>\n",
       "      <td>52</td>\n",
       "      <td>5</td>\n",
       "      <td>4</td>\n",
       "    </tr>\n",
       "    <tr>\n",
       "      <th>1477</th>\n",
       "      <td>11</td>\n",
       "      <td>2010-12-31</td>\n",
       "      <td>1172003.10</td>\n",
       "      <td>1</td>\n",
       "      <td>55.03</td>\n",
       "      <td>2.943</td>\n",
       "      <td>214.698647</td>\n",
       "      <td>7.564</td>\n",
       "      <td>12</td>\n",
       "      <td>2010</td>\n",
       "      <td>52</td>\n",
       "      <td>5</td>\n",
       "      <td>4</td>\n",
       "    </tr>\n",
       "    <tr>\n",
       "      <th>1529</th>\n",
       "      <td>11</td>\n",
       "      <td>2011-12-30</td>\n",
       "      <td>1352084.21</td>\n",
       "      <td>1</td>\n",
       "      <td>48.86</td>\n",
       "      <td>3.129</td>\n",
       "      <td>223.009084</td>\n",
       "      <td>7.197</td>\n",
       "      <td>12</td>\n",
       "      <td>2011</td>\n",
       "      <td>52</td>\n",
       "      <td>5</td>\n",
       "      <td>4</td>\n",
       "    </tr>\n",
       "    <tr>\n",
       "      <th>1672</th>\n",
       "      <td>12</td>\n",
       "      <td>2011-12-30</td>\n",
       "      <td>1111638.07</td>\n",
       "      <td>1</td>\n",
       "      <td>44.64</td>\n",
       "      <td>3.428</td>\n",
       "      <td>130.071032</td>\n",
       "      <td>12.890</td>\n",
       "      <td>12</td>\n",
       "      <td>2011</td>\n",
       "      <td>52</td>\n",
       "      <td>5</td>\n",
       "      <td>4</td>\n",
       "    </tr>\n",
       "    <tr>\n",
       "      <th>1763</th>\n",
       "      <td>13</td>\n",
       "      <td>2010-12-31</td>\n",
       "      <td>1675292.00</td>\n",
       "      <td>1</td>\n",
       "      <td>26.79</td>\n",
       "      <td>2.868</td>\n",
       "      <td>127.087677</td>\n",
       "      <td>7.795</td>\n",
       "      <td>12</td>\n",
       "      <td>2010</td>\n",
       "      <td>52</td>\n",
       "      <td>5</td>\n",
       "      <td>4</td>\n",
       "    </tr>\n",
       "    <tr>\n",
       "      <th>1815</th>\n",
       "      <td>13</td>\n",
       "      <td>2011-12-30</td>\n",
       "      <td>1969056.91</td>\n",
       "      <td>1</td>\n",
       "      <td>31.53</td>\n",
       "      <td>3.119</td>\n",
       "      <td>130.071032</td>\n",
       "      <td>6.392</td>\n",
       "      <td>12</td>\n",
       "      <td>2011</td>\n",
       "      <td>52</td>\n",
       "      <td>5</td>\n",
       "      <td>4</td>\n",
       "    </tr>\n",
       "    <tr>\n",
       "      <th>1906</th>\n",
       "      <td>14</td>\n",
       "      <td>2010-12-31</td>\n",
       "      <td>1623716.46</td>\n",
       "      <td>1</td>\n",
       "      <td>29.67</td>\n",
       "      <td>3.179</td>\n",
       "      <td>182.571448</td>\n",
       "      <td>8.724</td>\n",
       "      <td>12</td>\n",
       "      <td>2010</td>\n",
       "      <td>52</td>\n",
       "      <td>5</td>\n",
       "      <td>4</td>\n",
       "    </tr>\n",
       "    <tr>\n",
       "      <th>1958</th>\n",
       "      <td>14</td>\n",
       "      <td>2011-12-30</td>\n",
       "      <td>1914148.89</td>\n",
       "      <td>1</td>\n",
       "      <td>37.79</td>\n",
       "      <td>3.389</td>\n",
       "      <td>189.062016</td>\n",
       "      <td>8.523</td>\n",
       "      <td>12</td>\n",
       "      <td>2011</td>\n",
       "      <td>52</td>\n",
       "      <td>5</td>\n",
       "      <td>4</td>\n",
       "    </tr>\n",
       "    <tr>\n",
       "      <th>2621</th>\n",
       "      <td>19</td>\n",
       "      <td>2010-12-31</td>\n",
       "      <td>1275146.94</td>\n",
       "      <td>1</td>\n",
       "      <td>28.65</td>\n",
       "      <td>3.336</td>\n",
       "      <td>132.815032</td>\n",
       "      <td>8.067</td>\n",
       "      <td>12</td>\n",
       "      <td>2010</td>\n",
       "      <td>52</td>\n",
       "      <td>5</td>\n",
       "      <td>4</td>\n",
       "    </tr>\n",
       "    <tr>\n",
       "      <th>2673</th>\n",
       "      <td>19</td>\n",
       "      <td>2011-12-30</td>\n",
       "      <td>1405168.06</td>\n",
       "      <td>1</td>\n",
       "      <td>31.65</td>\n",
       "      <td>3.566</td>\n",
       "      <td>136.643258</td>\n",
       "      <td>7.866</td>\n",
       "      <td>12</td>\n",
       "      <td>2011</td>\n",
       "      <td>52</td>\n",
       "      <td>5</td>\n",
       "      <td>4</td>\n",
       "    </tr>\n",
       "    <tr>\n",
       "      <th>2764</th>\n",
       "      <td>20</td>\n",
       "      <td>2010-12-31</td>\n",
       "      <td>1799737.79</td>\n",
       "      <td>1</td>\n",
       "      <td>28.85</td>\n",
       "      <td>3.179</td>\n",
       "      <td>204.643227</td>\n",
       "      <td>7.484</td>\n",
       "      <td>12</td>\n",
       "      <td>2010</td>\n",
       "      <td>52</td>\n",
       "      <td>5</td>\n",
       "      <td>4</td>\n",
       "    </tr>\n",
       "    <tr>\n",
       "      <th>2816</th>\n",
       "      <td>20</td>\n",
       "      <td>2011-12-30</td>\n",
       "      <td>2043245.00</td>\n",
       "      <td>1</td>\n",
       "      <td>36.35</td>\n",
       "      <td>3.389</td>\n",
       "      <td>212.403576</td>\n",
       "      <td>7.082</td>\n",
       "      <td>12</td>\n",
       "      <td>2011</td>\n",
       "      <td>52</td>\n",
       "      <td>5</td>\n",
       "      <td>4</td>\n",
       "    </tr>\n",
       "    <tr>\n",
       "      <th>3193</th>\n",
       "      <td>23</td>\n",
       "      <td>2010-12-31</td>\n",
       "      <td>1169773.85</td>\n",
       "      <td>1</td>\n",
       "      <td>19.05</td>\n",
       "      <td>3.177</td>\n",
       "      <td>132.815032</td>\n",
       "      <td>5.287</td>\n",
       "      <td>12</td>\n",
       "      <td>2010</td>\n",
       "      <td>52</td>\n",
       "      <td>5</td>\n",
       "      <td>4</td>\n",
       "    </tr>\n",
       "    <tr>\n",
       "      <th>3245</th>\n",
       "      <td>23</td>\n",
       "      <td>2011-12-30</td>\n",
       "      <td>1213486.95</td>\n",
       "      <td>1</td>\n",
       "      <td>22.30</td>\n",
       "      <td>3.402</td>\n",
       "      <td>136.643258</td>\n",
       "      <td>4.420</td>\n",
       "      <td>12</td>\n",
       "      <td>2011</td>\n",
       "      <td>52</td>\n",
       "      <td>5</td>\n",
       "      <td>4</td>\n",
       "    </tr>\n",
       "    <tr>\n",
       "      <th>3336</th>\n",
       "      <td>24</td>\n",
       "      <td>2010-12-31</td>\n",
       "      <td>1208600.05</td>\n",
       "      <td>1</td>\n",
       "      <td>25.90</td>\n",
       "      <td>3.336</td>\n",
       "      <td>132.815032</td>\n",
       "      <td>8.275</td>\n",
       "      <td>12</td>\n",
       "      <td>2010</td>\n",
       "      <td>52</td>\n",
       "      <td>5</td>\n",
       "      <td>4</td>\n",
       "    </tr>\n",
       "    <tr>\n",
       "      <th>3388</th>\n",
       "      <td>24</td>\n",
       "      <td>2011-12-30</td>\n",
       "      <td>1363973.16</td>\n",
       "      <td>1</td>\n",
       "      <td>33.45</td>\n",
       "      <td>3.566</td>\n",
       "      <td>136.643258</td>\n",
       "      <td>8.454</td>\n",
       "      <td>12</td>\n",
       "      <td>2011</td>\n",
       "      <td>52</td>\n",
       "      <td>5</td>\n",
       "      <td>4</td>\n",
       "    </tr>\n",
       "    <tr>\n",
       "      <th>3765</th>\n",
       "      <td>27</td>\n",
       "      <td>2010-12-31</td>\n",
       "      <td>1440963.00</td>\n",
       "      <td>1</td>\n",
       "      <td>29.59</td>\n",
       "      <td>3.336</td>\n",
       "      <td>136.665265</td>\n",
       "      <td>8.021</td>\n",
       "      <td>12</td>\n",
       "      <td>2010</td>\n",
       "      <td>52</td>\n",
       "      <td>5</td>\n",
       "      <td>4</td>\n",
       "    </tr>\n",
       "    <tr>\n",
       "      <th>3817</th>\n",
       "      <td>27</td>\n",
       "      <td>2011-12-30</td>\n",
       "      <td>1650604.60</td>\n",
       "      <td>1</td>\n",
       "      <td>37.85</td>\n",
       "      <td>3.566</td>\n",
       "      <td>140.587450</td>\n",
       "      <td>7.906</td>\n",
       "      <td>12</td>\n",
       "      <td>2011</td>\n",
       "      <td>52</td>\n",
       "      <td>5</td>\n",
       "      <td>4</td>\n",
       "    </tr>\n",
       "    <tr>\n",
       "      <th>3908</th>\n",
       "      <td>28</td>\n",
       "      <td>2010-12-31</td>\n",
       "      <td>1090558.57</td>\n",
       "      <td>1</td>\n",
       "      <td>45.64</td>\n",
       "      <td>3.148</td>\n",
       "      <td>127.087677</td>\n",
       "      <td>14.313</td>\n",
       "      <td>12</td>\n",
       "      <td>2010</td>\n",
       "      <td>52</td>\n",
       "      <td>5</td>\n",
       "      <td>4</td>\n",
       "    </tr>\n",
       "    <tr>\n",
       "      <th>3960</th>\n",
       "      <td>28</td>\n",
       "      <td>2011-12-30</td>\n",
       "      <td>1270036.53</td>\n",
       "      <td>1</td>\n",
       "      <td>44.64</td>\n",
       "      <td>3.428</td>\n",
       "      <td>130.071032</td>\n",
       "      <td>12.890</td>\n",
       "      <td>12</td>\n",
       "      <td>2011</td>\n",
       "      <td>52</td>\n",
       "      <td>5</td>\n",
       "      <td>4</td>\n",
       "    </tr>\n",
       "    <tr>\n",
       "      <th>4337</th>\n",
       "      <td>31</td>\n",
       "      <td>2010-12-31</td>\n",
       "      <td>1198071.60</td>\n",
       "      <td>1</td>\n",
       "      <td>47.19</td>\n",
       "      <td>2.943</td>\n",
       "      <td>211.064774</td>\n",
       "      <td>8.163</td>\n",
       "      <td>12</td>\n",
       "      <td>2010</td>\n",
       "      <td>52</td>\n",
       "      <td>5</td>\n",
       "      <td>4</td>\n",
       "    </tr>\n",
       "    <tr>\n",
       "      <th>4389</th>\n",
       "      <td>31</td>\n",
       "      <td>2011-12-30</td>\n",
       "      <td>1355405.95</td>\n",
       "      <td>1</td>\n",
       "      <td>45.16</td>\n",
       "      <td>3.129</td>\n",
       "      <td>219.177306</td>\n",
       "      <td>7.441</td>\n",
       "      <td>12</td>\n",
       "      <td>2011</td>\n",
       "      <td>52</td>\n",
       "      <td>5</td>\n",
       "      <td>4</td>\n",
       "    </tr>\n",
       "    <tr>\n",
       "      <th>4532</th>\n",
       "      <td>32</td>\n",
       "      <td>2011-12-30</td>\n",
       "      <td>1102367.65</td>\n",
       "      <td>1</td>\n",
       "      <td>32.99</td>\n",
       "      <td>3.119</td>\n",
       "      <td>196.358610</td>\n",
       "      <td>8.513</td>\n",
       "      <td>12</td>\n",
       "      <td>2011</td>\n",
       "      <td>52</td>\n",
       "      <td>5</td>\n",
       "      <td>4</td>\n",
       "    </tr>\n",
       "    <tr>\n",
       "      <th>5481</th>\n",
       "      <td>39</td>\n",
       "      <td>2010-12-31</td>\n",
       "      <td>1230012.16</td>\n",
       "      <td>1</td>\n",
       "      <td>52.45</td>\n",
       "      <td>2.943</td>\n",
       "      <td>210.182398</td>\n",
       "      <td>8.476</td>\n",
       "      <td>12</td>\n",
       "      <td>2010</td>\n",
       "      <td>52</td>\n",
       "      <td>5</td>\n",
       "      <td>4</td>\n",
       "    </tr>\n",
       "    <tr>\n",
       "      <th>5533</th>\n",
       "      <td>39</td>\n",
       "      <td>2011-12-30</td>\n",
       "      <td>1537139.56</td>\n",
       "      <td>1</td>\n",
       "      <td>47.60</td>\n",
       "      <td>3.129</td>\n",
       "      <td>218.230236</td>\n",
       "      <td>7.716</td>\n",
       "      <td>12</td>\n",
       "      <td>2011</td>\n",
       "      <td>52</td>\n",
       "      <td>5</td>\n",
       "      <td>4</td>\n",
       "    </tr>\n",
       "    <tr>\n",
       "      <th>5819</th>\n",
       "      <td>41</td>\n",
       "      <td>2011-12-30</td>\n",
       "      <td>1264014.16</td>\n",
       "      <td>1</td>\n",
       "      <td>34.12</td>\n",
       "      <td>3.119</td>\n",
       "      <td>196.358610</td>\n",
       "      <td>6.759</td>\n",
       "      <td>12</td>\n",
       "      <td>2011</td>\n",
       "      <td>52</td>\n",
       "      <td>5</td>\n",
       "      <td>4</td>\n",
       "    </tr>\n",
       "  </tbody>\n",
       "</table>\n",
       "</div>"
      ],
      "text/plain": [
       "     Store       Date  Weekly_Sales Holiday_Flag  Temperature  Fuel_Price  \\\n",
       "47       1 2010-12-31    1367320.01            1        48.43       2.943   \n",
       "99       1 2011-12-30    1497462.72            1        44.55       3.129   \n",
       "190      2 2010-12-31    1750434.55            1        47.30       2.943   \n",
       "242      2 2011-12-30    1874226.52            1        44.57       3.129   \n",
       "476      4 2010-12-31    1794868.74            1        38.09       2.955   \n",
       "528      4 2011-12-30    2007105.86            1        36.89       3.119   \n",
       "762      6 2010-12-31    1464050.02            1        49.14       2.943   \n",
       "814      6 2011-12-30    1598080.52            1        46.80       3.129   \n",
       "1334    10 2010-12-31    1707298.14            1        49.67       3.148   \n",
       "1386    10 2011-12-30    1930690.37            1        48.92       3.428   \n",
       "1477    11 2010-12-31    1172003.10            1        55.03       2.943   \n",
       "1529    11 2011-12-30    1352084.21            1        48.86       3.129   \n",
       "1672    12 2011-12-30    1111638.07            1        44.64       3.428   \n",
       "1763    13 2010-12-31    1675292.00            1        26.79       2.868   \n",
       "1815    13 2011-12-30    1969056.91            1        31.53       3.119   \n",
       "1906    14 2010-12-31    1623716.46            1        29.67       3.179   \n",
       "1958    14 2011-12-30    1914148.89            1        37.79       3.389   \n",
       "2621    19 2010-12-31    1275146.94            1        28.65       3.336   \n",
       "2673    19 2011-12-30    1405168.06            1        31.65       3.566   \n",
       "2764    20 2010-12-31    1799737.79            1        28.85       3.179   \n",
       "2816    20 2011-12-30    2043245.00            1        36.35       3.389   \n",
       "3193    23 2010-12-31    1169773.85            1        19.05       3.177   \n",
       "3245    23 2011-12-30    1213486.95            1        22.30       3.402   \n",
       "3336    24 2010-12-31    1208600.05            1        25.90       3.336   \n",
       "3388    24 2011-12-30    1363973.16            1        33.45       3.566   \n",
       "3765    27 2010-12-31    1440963.00            1        29.59       3.336   \n",
       "3817    27 2011-12-30    1650604.60            1        37.85       3.566   \n",
       "3908    28 2010-12-31    1090558.57            1        45.64       3.148   \n",
       "3960    28 2011-12-30    1270036.53            1        44.64       3.428   \n",
       "4337    31 2010-12-31    1198071.60            1        47.19       2.943   \n",
       "4389    31 2011-12-30    1355405.95            1        45.16       3.129   \n",
       "4532    32 2011-12-30    1102367.65            1        32.99       3.119   \n",
       "5481    39 2010-12-31    1230012.16            1        52.45       2.943   \n",
       "5533    39 2011-12-30    1537139.56            1        47.60       3.129   \n",
       "5819    41 2011-12-30    1264014.16            1        34.12       3.119   \n",
       "\n",
       "             CPI  Unemployment month  year week  day  Q  \n",
       "47    211.404932         7.838    12  2010   52    5  4  \n",
       "99    219.535990         7.866    12  2011   52    5  4  \n",
       "190   211.064774         8.163    12  2010   52    5  4  \n",
       "242   219.177306         7.441    12  2011   52    5  4  \n",
       "476   127.087677         7.127    12  2010   52    5  4  \n",
       "528   130.071032         5.143    12  2011   52    5  4  \n",
       "762   212.914967         7.007    12  2010   52    5  4  \n",
       "814   221.128263         6.551    12  2011   52    5  4  \n",
       "1334  127.087677         9.003    12  2010   52    5  4  \n",
       "1386  130.071032         7.874    12  2011   52    5  4  \n",
       "1477  214.698647         7.564    12  2010   52    5  4  \n",
       "1529  223.009084         7.197    12  2011   52    5  4  \n",
       "1672  130.071032        12.890    12  2011   52    5  4  \n",
       "1763  127.087677         7.795    12  2010   52    5  4  \n",
       "1815  130.071032         6.392    12  2011   52    5  4  \n",
       "1906  182.571448         8.724    12  2010   52    5  4  \n",
       "1958  189.062016         8.523    12  2011   52    5  4  \n",
       "2621  132.815032         8.067    12  2010   52    5  4  \n",
       "2673  136.643258         7.866    12  2011   52    5  4  \n",
       "2764  204.643227         7.484    12  2010   52    5  4  \n",
       "2816  212.403576         7.082    12  2011   52    5  4  \n",
       "3193  132.815032         5.287    12  2010   52    5  4  \n",
       "3245  136.643258         4.420    12  2011   52    5  4  \n",
       "3336  132.815032         8.275    12  2010   52    5  4  \n",
       "3388  136.643258         8.454    12  2011   52    5  4  \n",
       "3765  136.665265         8.021    12  2010   52    5  4  \n",
       "3817  140.587450         7.906    12  2011   52    5  4  \n",
       "3908  127.087677        14.313    12  2010   52    5  4  \n",
       "3960  130.071032        12.890    12  2011   52    5  4  \n",
       "4337  211.064774         8.163    12  2010   52    5  4  \n",
       "4389  219.177306         7.441    12  2011   52    5  4  \n",
       "4532  196.358610         8.513    12  2011   52    5  4  \n",
       "5481  210.182398         8.476    12  2010   52    5  4  \n",
       "5533  218.230236         7.716    12  2011   52    5  4  \n",
       "5819  196.358610         6.759    12  2011   52    5  4  "
      ]
     },
     "execution_count": 44,
     "metadata": {},
     "output_type": "execute_result"
    }
   ],
   "source": [
    "#stores having higher sales than non holidays sales\n",
    "Christmas[Christmas[\"Weekly_Sales\"]>mean_without_holidays] #stores having higher sales than mean of non-holidays at christmas"
   ]
  },
  {
   "cell_type": "code",
   "execution_count": 45,
   "metadata": {},
   "outputs": [],
   "source": [
    "#above analysis shows some stores has higher sales i.e. positive impact holidays are determined"
   ]
  },
  {
   "cell_type": "code",
   "execution_count": 46,
   "metadata": {},
   "outputs": [],
   "source": [
    "#importing libraies for data visualization\n",
    "import matplotlib as plt\n",
    "import seaborn as sns"
   ]
  },
  {
   "cell_type": "code",
   "execution_count": 47,
   "metadata": {},
   "outputs": [],
   "source": [
    "dff = df[[\"Weekly_Sales\",\"Store\",\"month\",\"year\"]]"
   ]
  },
  {
   "cell_type": "code",
   "execution_count": 48,
   "metadata": {},
   "outputs": [],
   "source": [
    "sales_per_month2010 = dff[dff[\"year\"]==2010]\n",
    "sales_per_month2011 = dff[dff[\"year\"]==2011]\n",
    "sales_per_month2012 = dff[dff[\"year\"]==2012]"
   ]
  },
  {
   "cell_type": "code",
   "execution_count": 49,
   "metadata": {},
   "outputs": [],
   "source": [
    "#goruping data by month"
   ]
  },
  {
   "cell_type": "code",
   "execution_count": 50,
   "metadata": {},
   "outputs": [],
   "source": [
    "sales_2010 = sales_per_month2010.groupby(\"month\").mean()"
   ]
  },
  {
   "cell_type": "code",
   "execution_count": 51,
   "metadata": {},
   "outputs": [],
   "source": [
    "sales_2011 = sales_per_month2011.groupby(\"month\").mean()"
   ]
  },
  {
   "cell_type": "code",
   "execution_count": 52,
   "metadata": {},
   "outputs": [],
   "source": [
    "sales_2012 = sales_per_month2012.groupby(\"month\").mean()\n"
   ]
  },
  {
   "cell_type": "code",
   "execution_count": 53,
   "metadata": {},
   "outputs": [
    {
     "data": {
      "text/plain": [
       "<AxesSubplot:xlabel='month'>"
      ]
     },
     "execution_count": 53,
     "metadata": {},
     "output_type": "execute_result"
    },
    {
     "data": {
      "image/png": "[encoded data removed]",
      "text/plain": [
       "<Figure size 432x288 with 1 Axes>"
      ]
     },
     "metadata": {
      "needs_background": "light"
     },
     "output_type": "display_data"
    }
   ],
   "source": [
    "sns.scatterplot(data=sales_2010)\n",
    "#In 2010\n",
    "#here we can see month 1 has low sales and 12 highest sales\n",
    "#12and 11 has more than others because of the holiday thankgiving(11) and christmas(12)\n"
   ]
  },
  {
   "cell_type": "code",
   "execution_count": 54,
   "metadata": {},
   "outputs": [
    {
     "data": {
      "text/plain": [
       "<AxesSubplot:xlabel='month'>"
      ]
     },
     "execution_count": 54,
     "metadata": {},
     "output_type": "execute_result"
    },
    {
     "data": {
      "image/png": "[encoded data removed]",
      "text/plain": [
       "<Figure size 432x288 with 1 Axes>"
      ]
     },
     "metadata": {
      "needs_background": "light"
     },
     "output_type": "display_data"
    }
   ],
   "source": [
    "sns.scatterplot(data=sales_2011)\n",
    "#In 2011\n",
    "#here we can see month 1 has low sales and 12 highest sales\n",
    "#12and 11 has more than others because of the holiday thankgiving(11) and christmas(12)\n",
    "#11th month sales are not that signifiantly high than that in 2010"
   ]
  },
  {
   "cell_type": "code",
   "execution_count": 55,
   "metadata": {},
   "outputs": [
    {
     "data": {
      "text/plain": [
       "<AxesSubplot:xlabel='month'>"
      ]
     },
     "execution_count": 55,
     "metadata": {},
     "output_type": "execute_result"
    },
    {
     "data": {
      "image/png": "[encoded data removed]",
      "text/plain": [
       "<Figure size 432x288 with 1 Axes>"
      ]
     },
     "metadata": {
      "needs_background": "light"
     },
     "output_type": "display_data"
    }
   ],
   "source": [
    "sns.scatterplot(data=sales_2012)\n",
    "#In 2012\n",
    "#here we can see that sales are more than 1.05e+06 which is not in 2010 and 2011 (except month 1,11 and 12 in 2010and2011)\n",
    "#highest sales is of 6th month and lowest is of 1st month"
   ]
  },
  {
   "cell_type": "code",
   "execution_count": 56,
   "metadata": {},
   "outputs": [],
   "source": [
    "#sales in 2012 are more consistent thorugh the year \n",
    "#sales in 2011 and 2010 are almost similar but month11 has significant diffrence"
   ]
  },
  {
   "cell_type": "markdown",
   "metadata": {},
   "source": [
    "# Linear Regression  model"
   ]
  },
  {
   "cell_type": "code",
   "execution_count": 57,
   "metadata": {},
   "outputs": [],
   "source": [
    "#dataset \n",
    "df.head()\n",
    "df[\"day\"] = df[\"Date\"].dt.dayofyear #marking the day of the year"
   ]
  },
  {
   "cell_type": "code",
   "execution_count": 58,
   "metadata": {
    "scrolled": true
   },
   "outputs": [
    {
     "data": {
      "text/html": [
       "<div>\n",
       "<style scoped>\n",
       "    .dataframe tbody tr th:only-of-type {\n",
       "        vertical-align: middle;\n",
       "    }\n",
       "\n",
       "    .dataframe tbody tr th {\n",
       "        vertical-align: top;\n",
       "    }\n",
       "\n",
       "    .dataframe thead th {\n",
       "        text-align: right;\n",
       "    }\n",
       "</style>\n",
       "<table border=\"1\" class=\"dataframe\">\n",
       "  <thead>\n",
       "    <tr style=\"text-align: right;\">\n",
       "      <th></th>\n",
       "      <th>Store</th>\n",
       "      <th>Date</th>\n",
       "      <th>Weekly_Sales</th>\n",
       "      <th>Holiday_Flag</th>\n",
       "      <th>Temperature</th>\n",
       "      <th>Fuel_Price</th>\n",
       "      <th>CPI</th>\n",
       "      <th>Unemployment</th>\n",
       "      <th>month</th>\n",
       "      <th>year</th>\n",
       "      <th>week</th>\n",
       "      <th>day</th>\n",
       "      <th>Q</th>\n",
       "    </tr>\n",
       "  </thead>\n",
       "  <tbody>\n",
       "    <tr>\n",
       "      <th>0</th>\n",
       "      <td>1</td>\n",
       "      <td>2010-05-02</td>\n",
       "      <td>1643690.90</td>\n",
       "      <td>0</td>\n",
       "      <td>42.31</td>\n",
       "      <td>2.572</td>\n",
       "      <td>211.096358</td>\n",
       "      <td>8.106</td>\n",
       "      <td>5</td>\n",
       "      <td>2010</td>\n",
       "      <td>17</td>\n",
       "      <td>122</td>\n",
       "      <td>2</td>\n",
       "    </tr>\n",
       "    <tr>\n",
       "      <th>1</th>\n",
       "      <td>1</td>\n",
       "      <td>2010-12-02</td>\n",
       "      <td>1641957.44</td>\n",
       "      <td>1</td>\n",
       "      <td>38.51</td>\n",
       "      <td>2.548</td>\n",
       "      <td>211.242170</td>\n",
       "      <td>8.106</td>\n",
       "      <td>12</td>\n",
       "      <td>2010</td>\n",
       "      <td>48</td>\n",
       "      <td>336</td>\n",
       "      <td>4</td>\n",
       "    </tr>\n",
       "    <tr>\n",
       "      <th>2</th>\n",
       "      <td>1</td>\n",
       "      <td>2010-02-19</td>\n",
       "      <td>1611968.17</td>\n",
       "      <td>0</td>\n",
       "      <td>39.93</td>\n",
       "      <td>2.514</td>\n",
       "      <td>211.289143</td>\n",
       "      <td>8.106</td>\n",
       "      <td>2</td>\n",
       "      <td>2010</td>\n",
       "      <td>7</td>\n",
       "      <td>50</td>\n",
       "      <td>1</td>\n",
       "    </tr>\n",
       "    <tr>\n",
       "      <th>3</th>\n",
       "      <td>1</td>\n",
       "      <td>2010-02-26</td>\n",
       "      <td>1409727.59</td>\n",
       "      <td>0</td>\n",
       "      <td>46.63</td>\n",
       "      <td>2.561</td>\n",
       "      <td>211.319643</td>\n",
       "      <td>8.106</td>\n",
       "      <td>2</td>\n",
       "      <td>2010</td>\n",
       "      <td>8</td>\n",
       "      <td>57</td>\n",
       "      <td>1</td>\n",
       "    </tr>\n",
       "    <tr>\n",
       "      <th>4</th>\n",
       "      <td>1</td>\n",
       "      <td>2010-05-03</td>\n",
       "      <td>1554806.68</td>\n",
       "      <td>0</td>\n",
       "      <td>46.50</td>\n",
       "      <td>2.625</td>\n",
       "      <td>211.350143</td>\n",
       "      <td>8.106</td>\n",
       "      <td>5</td>\n",
       "      <td>2010</td>\n",
       "      <td>18</td>\n",
       "      <td>123</td>\n",
       "      <td>2</td>\n",
       "    </tr>\n",
       "  </tbody>\n",
       "</table>\n",
       "</div>"
      ],
      "text/plain": [
       "  Store       Date  Weekly_Sales Holiday_Flag  Temperature  Fuel_Price  \\\n",
       "0     1 2010-05-02    1643690.90            0        42.31       2.572   \n",
       "1     1 2010-12-02    1641957.44            1        38.51       2.548   \n",
       "2     1 2010-02-19    1611968.17            0        39.93       2.514   \n",
       "3     1 2010-02-26    1409727.59            0        46.63       2.561   \n",
       "4     1 2010-05-03    1554806.68            0        46.50       2.625   \n",
       "\n",
       "          CPI  Unemployment month  year week  day  Q  \n",
       "0  211.096358         8.106     5  2010   17  122  2  \n",
       "1  211.242170         8.106    12  2010   48  336  4  \n",
       "2  211.289143         8.106     2  2010    7   50  1  \n",
       "3  211.319643         8.106     2  2010    8   57  1  \n",
       "4  211.350143         8.106     5  2010   18  123  2  "
      ]
     },
     "execution_count": 58,
     "metadata": {},
     "output_type": "execute_result"
    }
   ],
   "source": [
    "df.head()"
   ]
  },
  {
   "cell_type": "code",
   "execution_count": 59,
   "metadata": {},
   "outputs": [
    {
     "data": {
      "text/plain": [
       "(6435, 13)"
      ]
     },
     "execution_count": 59,
     "metadata": {},
     "output_type": "execute_result"
    }
   ],
   "source": [
    "df.shape"
   ]
  },
  {
   "cell_type": "code",
   "execution_count": 60,
   "metadata": {},
   "outputs": [],
   "source": [
    "#Converting the data types as per col data"
   ]
  },
  {
   "cell_type": "code",
   "execution_count": 61,
   "metadata": {},
   "outputs": [
    {
     "name": "stdout",
     "output_type": "stream",
     "text": [
      "<class 'pandas.core.frame.DataFrame'>\n",
      "RangeIndex: 6435 entries, 0 to 6434\n",
      "Data columns (total 13 columns):\n",
      " #   Column        Non-Null Count  Dtype         \n",
      "---  ------        --------------  -----         \n",
      " 0   Store         6435 non-null   category      \n",
      " 1   Date          6435 non-null   datetime64[ns]\n",
      " 2   Weekly_Sales  6435 non-null   float64       \n",
      " 3   Holiday_Flag  6435 non-null   category      \n",
      " 4   Temperature   6435 non-null   float64       \n",
      " 5   Fuel_Price    6435 non-null   float64       \n",
      " 6   CPI           6435 non-null   float64       \n",
      " 7   Unemployment  6435 non-null   float64       \n",
      " 8   month         6435 non-null   category      \n",
      " 9   year          6435 non-null   category      \n",
      " 10  week          6435 non-null   category      \n",
      " 11  day           6435 non-null   int64         \n",
      " 12  Q             6435 non-null   int64         \n",
      "dtypes: category(5), datetime64[ns](1), float64(5), int64(2)\n",
      "memory usage: 438.8 KB\n"
     ]
    }
   ],
   "source": [
    "df.info()"
   ]
  },
  {
   "cell_type": "code",
   "execution_count": 62,
   "metadata": {},
   "outputs": [],
   "source": [
    "df[\"Q\"] = df[\"Q\"].astype('category')\n",
    "df[\"day\"] = df[\"day\"].astype('category')"
   ]
  },
  {
   "cell_type": "code",
   "execution_count": 63,
   "metadata": {},
   "outputs": [
    {
     "name": "stdout",
     "output_type": "stream",
     "text": [
      "<class 'pandas.core.frame.DataFrame'>\n",
      "RangeIndex: 6435 entries, 0 to 6434\n",
      "Data columns (total 13 columns):\n",
      " #   Column        Non-Null Count  Dtype         \n",
      "---  ------        --------------  -----         \n",
      " 0   Store         6435 non-null   category      \n",
      " 1   Date          6435 non-null   datetime64[ns]\n",
      " 2   Weekly_Sales  6435 non-null   float64       \n",
      " 3   Holiday_Flag  6435 non-null   category      \n",
      " 4   Temperature   6435 non-null   float64       \n",
      " 5   Fuel_Price    6435 non-null   float64       \n",
      " 6   CPI           6435 non-null   float64       \n",
      " 7   Unemployment  6435 non-null   float64       \n",
      " 8   month         6435 non-null   category      \n",
      " 9   year          6435 non-null   category      \n",
      " 10  week          6435 non-null   category      \n",
      " 11  day           6435 non-null   category      \n",
      " 12  Q             6435 non-null   category      \n",
      "dtypes: category(7), datetime64[ns](1), float64(5)\n",
      "memory usage: 363.4 KB\n"
     ]
    }
   ],
   "source": [
    "df.info()"
   ]
  },
  {
   "cell_type": "code",
   "execution_count": 64,
   "metadata": {},
   "outputs": [
    {
     "data": {
      "text/html": [
       "<div>\n",
       "<style scoped>\n",
       "    .dataframe tbody tr th:only-of-type {\n",
       "        vertical-align: middle;\n",
       "    }\n",
       "\n",
       "    .dataframe tbody tr th {\n",
       "        vertical-align: top;\n",
       "    }\n",
       "\n",
       "    .dataframe thead th {\n",
       "        text-align: right;\n",
       "    }\n",
       "</style>\n",
       "<table border=\"1\" class=\"dataframe\">\n",
       "  <thead>\n",
       "    <tr style=\"text-align: right;\">\n",
       "      <th></th>\n",
       "      <th>Weekly_Sales</th>\n",
       "      <th>Temperature</th>\n",
       "      <th>Fuel_Price</th>\n",
       "      <th>CPI</th>\n",
       "      <th>Unemployment</th>\n",
       "    </tr>\n",
       "  </thead>\n",
       "  <tbody>\n",
       "    <tr>\n",
       "      <th>count</th>\n",
       "      <td>6.435000e+03</td>\n",
       "      <td>6435.000000</td>\n",
       "      <td>6435.000000</td>\n",
       "      <td>6435.000000</td>\n",
       "      <td>6435.000000</td>\n",
       "    </tr>\n",
       "    <tr>\n",
       "      <th>mean</th>\n",
       "      <td>1.046965e+06</td>\n",
       "      <td>60.663782</td>\n",
       "      <td>3.358607</td>\n",
       "      <td>171.578394</td>\n",
       "      <td>7.999151</td>\n",
       "    </tr>\n",
       "    <tr>\n",
       "      <th>std</th>\n",
       "      <td>5.643666e+05</td>\n",
       "      <td>18.444933</td>\n",
       "      <td>0.459020</td>\n",
       "      <td>39.356712</td>\n",
       "      <td>1.875885</td>\n",
       "    </tr>\n",
       "    <tr>\n",
       "      <th>min</th>\n",
       "      <td>2.099862e+05</td>\n",
       "      <td>-2.060000</td>\n",
       "      <td>2.472000</td>\n",
       "      <td>126.064000</td>\n",
       "      <td>3.879000</td>\n",
       "    </tr>\n",
       "    <tr>\n",
       "      <th>25%</th>\n",
       "      <td>5.533501e+05</td>\n",
       "      <td>47.460000</td>\n",
       "      <td>2.933000</td>\n",
       "      <td>131.735000</td>\n",
       "      <td>6.891000</td>\n",
       "    </tr>\n",
       "    <tr>\n",
       "      <th>50%</th>\n",
       "      <td>9.607460e+05</td>\n",
       "      <td>62.670000</td>\n",
       "      <td>3.445000</td>\n",
       "      <td>182.616521</td>\n",
       "      <td>7.874000</td>\n",
       "    </tr>\n",
       "    <tr>\n",
       "      <th>75%</th>\n",
       "      <td>1.420159e+06</td>\n",
       "      <td>74.940000</td>\n",
       "      <td>3.735000</td>\n",
       "      <td>212.743293</td>\n",
       "      <td>8.622000</td>\n",
       "    </tr>\n",
       "    <tr>\n",
       "      <th>max</th>\n",
       "      <td>3.818686e+06</td>\n",
       "      <td>100.140000</td>\n",
       "      <td>4.468000</td>\n",
       "      <td>227.232807</td>\n",
       "      <td>14.313000</td>\n",
       "    </tr>\n",
       "  </tbody>\n",
       "</table>\n",
       "</div>"
      ],
      "text/plain": [
       "       Weekly_Sales  Temperature   Fuel_Price          CPI  Unemployment\n",
       "count  6.435000e+03  6435.000000  6435.000000  6435.000000   6435.000000\n",
       "mean   1.046965e+06    60.663782     3.358607   171.578394      7.999151\n",
       "std    5.643666e+05    18.444933     0.459020    39.356712      1.875885\n",
       "min    2.099862e+05    -2.060000     2.472000   126.064000      3.879000\n",
       "25%    5.533501e+05    47.460000     2.933000   131.735000      6.891000\n",
       "50%    9.607460e+05    62.670000     3.445000   182.616521      7.874000\n",
       "75%    1.420159e+06    74.940000     3.735000   212.743293      8.622000\n",
       "max    3.818686e+06   100.140000     4.468000   227.232807     14.313000"
      ]
     },
     "execution_count": 64,
     "metadata": {},
     "output_type": "execute_result"
    }
   ],
   "source": [
    "#stats data of numerical colunms\n",
    "df.describe()"
   ]
  },
  {
   "cell_type": "code",
   "execution_count": 65,
   "metadata": {},
   "outputs": [],
   "source": [
    "#Temprrature ,Fuel_Price anf Unemployment mean and mediean are alamost close, so we can say they are normaliy distributed.\n",
    "#lets check and convert the rest"
   ]
  },
  {
   "cell_type": "code",
   "execution_count": 66,
   "metadata": {},
   "outputs": [],
   "source": [
    "#data visualization for distubution analysis (skweness)"
   ]
  },
  {
   "cell_type": "code",
   "execution_count": 67,
   "metadata": {},
   "outputs": [
    {
     "name": "stderr",
     "output_type": "stream",
     "text": [
      "/opt/anaconda3/lib/python3.8/site-packages/seaborn/distributions.py:2551: FutureWarning: `distplot` is a deprecated function and will be removed in a future version. Please adapt your code to use either `displot` (a figure-level function with similar flexibility) or `histplot` (an axes-level function for histograms).\n",
      "  warnings.warn(msg, FutureWarning)\n"
     ]
    },
    {
     "data": {
      "text/plain": [
       "<AxesSubplot:xlabel='Weekly_Sales', ylabel='Density'>"
      ]
     },
     "execution_count": 67,
     "metadata": {},
     "output_type": "execute_result"
    },
    {
     "data": {
      "image/png": "[encoded data removed]",
      "text/plain": [
       "<Figure size 432x288 with 1 Axes>"
      ]
     },
     "metadata": {
      "needs_background": "light"
     },
     "output_type": "display_data"
    }
   ],
   "source": [
    "#for weekly_sales\n",
    "sns.distplot(df[\"Weekly_Sales\"])"
   ]
  },
  {
   "cell_type": "code",
   "execution_count": 68,
   "metadata": {},
   "outputs": [
    {
     "name": "stderr",
     "output_type": "stream",
     "text": [
      "/opt/anaconda3/lib/python3.8/site-packages/seaborn/distributions.py:2551: FutureWarning: `distplot` is a deprecated function and will be removed in a future version. Please adapt your code to use either `displot` (a figure-level function with similar flexibility) or `histplot` (an axes-level function for histograms).\n",
      "  warnings.warn(msg, FutureWarning)\n"
     ]
    },
    {
     "data": {
      "text/plain": [
       "<AxesSubplot:xlabel='CPI', ylabel='Density'>"
      ]
     },
     "execution_count": 68,
     "metadata": {},
     "output_type": "execute_result"
    },
    {
     "data": {
      "image/png": "[encoded data removed]",
      "text/plain": [
       "<Figure size 432x288 with 1 Axes>"
      ]
     },
     "metadata": {
      "needs_background": "light"
     },
     "output_type": "display_data"
    }
   ],
   "source": [
    "#for CPI\n",
    "sns.distplot(df[\"CPI\"])"
   ]
  },
  {
   "cell_type": "code",
   "execution_count": 69,
   "metadata": {},
   "outputs": [],
   "source": [
    "#log transformation\n",
    "df[\"CPI\"] = df[\"CPI\"].apply(np.log1p)"
   ]
  },
  {
   "cell_type": "code",
   "execution_count": 70,
   "metadata": {},
   "outputs": [
    {
     "name": "stderr",
     "output_type": "stream",
     "text": [
      "/opt/anaconda3/lib/python3.8/site-packages/seaborn/distributions.py:2551: FutureWarning: `distplot` is a deprecated function and will be removed in a future version. Please adapt your code to use either `displot` (a figure-level function with similar flexibility) or `histplot` (an axes-level function for histograms).\n",
      "  warnings.warn(msg, FutureWarning)\n"
     ]
    },
    {
     "data": {
      "text/plain": [
       "<AxesSubplot:xlabel='CPI', ylabel='Density'>"
      ]
     },
     "execution_count": 70,
     "metadata": {},
     "output_type": "execute_result"
    },
    {
     "data": {
      "image/png": "[encoded data removed]",
      "text/plain": [
       "<Figure size 432x288 with 1 Axes>"
      ]
     },
     "metadata": {
      "needs_background": "light"
     },
     "output_type": "display_data"
    }
   ],
   "source": [
    "#viewing it again \n",
    "sns.distplot(df[\"CPI\"])\n",
    "#better than before"
   ]
  },
  {
   "cell_type": "code",
   "execution_count": 71,
   "metadata": {},
   "outputs": [
    {
     "data": {
      "text/html": [
       "<div>\n",
       "<style scoped>\n",
       "    .dataframe tbody tr th:only-of-type {\n",
       "        vertical-align: middle;\n",
       "    }\n",
       "\n",
       "    .dataframe tbody tr th {\n",
       "        vertical-align: top;\n",
       "    }\n",
       "\n",
       "    .dataframe thead th {\n",
       "        text-align: right;\n",
       "    }\n",
       "</style>\n",
       "<table border=\"1\" class=\"dataframe\">\n",
       "  <thead>\n",
       "    <tr style=\"text-align: right;\">\n",
       "      <th></th>\n",
       "      <th>Weekly_Sales</th>\n",
       "      <th>Temperature</th>\n",
       "      <th>Fuel_Price</th>\n",
       "      <th>CPI</th>\n",
       "      <th>Unemployment</th>\n",
       "    </tr>\n",
       "  </thead>\n",
       "  <tbody>\n",
       "    <tr>\n",
       "      <th>count</th>\n",
       "      <td>6.435000e+03</td>\n",
       "      <td>6435.000000</td>\n",
       "      <td>6435.000000</td>\n",
       "      <td>6435.000000</td>\n",
       "      <td>6435.000000</td>\n",
       "    </tr>\n",
       "    <tr>\n",
       "      <th>mean</th>\n",
       "      <td>1.046965e+06</td>\n",
       "      <td>60.663782</td>\n",
       "      <td>3.358607</td>\n",
       "      <td>5.124311</td>\n",
       "      <td>7.999151</td>\n",
       "    </tr>\n",
       "    <tr>\n",
       "      <th>std</th>\n",
       "      <td>5.643666e+05</td>\n",
       "      <td>18.444933</td>\n",
       "      <td>0.459020</td>\n",
       "      <td>0.231237</td>\n",
       "      <td>1.875885</td>\n",
       "    </tr>\n",
       "    <tr>\n",
       "      <th>min</th>\n",
       "      <td>2.099862e+05</td>\n",
       "      <td>-2.060000</td>\n",
       "      <td>2.472000</td>\n",
       "      <td>4.844691</td>\n",
       "      <td>3.879000</td>\n",
       "    </tr>\n",
       "    <tr>\n",
       "      <th>25%</th>\n",
       "      <td>5.533501e+05</td>\n",
       "      <td>47.460000</td>\n",
       "      <td>2.933000</td>\n",
       "      <td>4.888355</td>\n",
       "      <td>6.891000</td>\n",
       "    </tr>\n",
       "    <tr>\n",
       "      <th>50%</th>\n",
       "      <td>9.607460e+05</td>\n",
       "      <td>62.670000</td>\n",
       "      <td>3.445000</td>\n",
       "      <td>5.212849</td>\n",
       "      <td>7.874000</td>\n",
       "    </tr>\n",
       "    <tr>\n",
       "      <th>75%</th>\n",
       "      <td>1.420159e+06</td>\n",
       "      <td>74.940000</td>\n",
       "      <td>3.735000</td>\n",
       "      <td>5.364776</td>\n",
       "      <td>8.622000</td>\n",
       "    </tr>\n",
       "    <tr>\n",
       "      <th>max</th>\n",
       "      <td>3.818686e+06</td>\n",
       "      <td>100.140000</td>\n",
       "      <td>4.468000</td>\n",
       "      <td>5.430366</td>\n",
       "      <td>14.313000</td>\n",
       "    </tr>\n",
       "  </tbody>\n",
       "</table>\n",
       "</div>"
      ],
      "text/plain": [
       "       Weekly_Sales  Temperature   Fuel_Price          CPI  Unemployment\n",
       "count  6.435000e+03  6435.000000  6435.000000  6435.000000   6435.000000\n",
       "mean   1.046965e+06    60.663782     3.358607     5.124311      7.999151\n",
       "std    5.643666e+05    18.444933     0.459020     0.231237      1.875885\n",
       "min    2.099862e+05    -2.060000     2.472000     4.844691      3.879000\n",
       "25%    5.533501e+05    47.460000     2.933000     4.888355      6.891000\n",
       "50%    9.607460e+05    62.670000     3.445000     5.212849      7.874000\n",
       "75%    1.420159e+06    74.940000     3.735000     5.364776      8.622000\n",
       "max    3.818686e+06   100.140000     4.468000     5.430366     14.313000"
      ]
     },
     "execution_count": 71,
     "metadata": {},
     "output_type": "execute_result"
    }
   ],
   "source": [
    "df.describe()\n",
    "#better distribution of data now"
   ]
  },
  {
   "cell_type": "code",
   "execution_count": 72,
   "metadata": {},
   "outputs": [
    {
     "data": {
      "text/plain": [
       "Store           0\n",
       "Date            0\n",
       "Weekly_Sales    0\n",
       "Holiday_Flag    0\n",
       "Temperature     0\n",
       "Fuel_Price      0\n",
       "CPI             0\n",
       "Unemployment    0\n",
       "month           0\n",
       "year            0\n",
       "week            0\n",
       "day             0\n",
       "Q               0\n",
       "dtype: int64"
      ]
     },
     "execution_count": 72,
     "metadata": {},
     "output_type": "execute_result"
    }
   ],
   "source": [
    "#checking for missing values\n",
    "df.isna().sum()\n",
    "#no na values"
   ]
  },
  {
   "cell_type": "code",
   "execution_count": 73,
   "metadata": {},
   "outputs": [
    {
     "name": "stderr",
     "output_type": "stream",
     "text": [
      "/opt/anaconda3/lib/python3.8/site-packages/seaborn/_decorators.py:36: FutureWarning: Pass the following variable as a keyword arg: x. From version 0.12, the only valid positional argument will be `data`, and passing other arguments without an explicit keyword will result in an error or misinterpretation.\n",
      "  warnings.warn(\n"
     ]
    },
    {
     "data": {
      "text/plain": [
       "<AxesSubplot:xlabel='Weekly_Sales'>"
      ]
     },
     "execution_count": 73,
     "metadata": {},
     "output_type": "execute_result"
    },
    {
     "data": {
      "image/png": "[encoded data removed]",
      "text/plain": [
       "<Figure size 432x288 with 1 Axes>"
      ]
     },
     "metadata": {
      "needs_background": "light"
     },
     "output_type": "display_data"
    }
   ],
   "source": [
    "#checking for outliers if any\n",
    "sns.boxplot(df[\"Weekly_Sales\"])"
   ]
  },
  {
   "cell_type": "code",
   "execution_count": 74,
   "metadata": {},
   "outputs": [
    {
     "name": "stderr",
     "output_type": "stream",
     "text": [
      "/opt/anaconda3/lib/python3.8/site-packages/seaborn/_decorators.py:36: FutureWarning: Pass the following variable as a keyword arg: x. From version 0.12, the only valid positional argument will be `data`, and passing other arguments without an explicit keyword will result in an error or misinterpretation.\n",
      "  warnings.warn(\n"
     ]
    },
    {
     "data": {
      "text/plain": [
       "<AxesSubplot:xlabel='Temperature'>"
      ]
     },
     "execution_count": 74,
     "metadata": {},
     "output_type": "execute_result"
    },
    {
     "data": {
      "image/png": "[encoded data removed]",
      "text/plain": [
       "<Figure size 432x288 with 1 Axes>"
      ]
     },
     "metadata": {
      "needs_background": "light"
     },
     "output_type": "display_data"
    }
   ],
   "source": [
    "sns.boxplot(df[\"Temperature\"])"
   ]
  },
  {
   "cell_type": "code",
   "execution_count": 75,
   "metadata": {},
   "outputs": [
    {
     "name": "stderr",
     "output_type": "stream",
     "text": [
      "/opt/anaconda3/lib/python3.8/site-packages/seaborn/_decorators.py:36: FutureWarning: Pass the following variable as a keyword arg: x. From version 0.12, the only valid positional argument will be `data`, and passing other arguments without an explicit keyword will result in an error or misinterpretation.\n",
      "  warnings.warn(\n"
     ]
    },
    {
     "data": {
      "text/plain": [
       "<AxesSubplot:xlabel='CPI'>"
      ]
     },
     "execution_count": 75,
     "metadata": {},
     "output_type": "execute_result"
    },
    {
     "data": {
      "image/png": "[encoded data removed]",
      "text/plain": [
       "<Figure size 432x288 with 1 Axes>"
      ]
     },
     "metadata": {
      "needs_background": "light"
     },
     "output_type": "display_data"
    }
   ],
   "source": [
    "sns.boxplot(df[\"CPI\"])"
   ]
  },
  {
   "cell_type": "code",
   "execution_count": 76,
   "metadata": {},
   "outputs": [
    {
     "name": "stderr",
     "output_type": "stream",
     "text": [
      "/opt/anaconda3/lib/python3.8/site-packages/seaborn/_decorators.py:36: FutureWarning: Pass the following variable as a keyword arg: x. From version 0.12, the only valid positional argument will be `data`, and passing other arguments without an explicit keyword will result in an error or misinterpretation.\n",
      "  warnings.warn(\n"
     ]
    },
    {
     "data": {
      "text/plain": [
       "<AxesSubplot:xlabel='Unemployment'>"
      ]
     },
     "execution_count": 76,
     "metadata": {},
     "output_type": "execute_result"
    },
    {
     "data": {
      "image/png": "[encoded data removed]",
      "text/plain": [
       "<Figure size 432x288 with 1 Axes>"
      ]
     },
     "metadata": {
      "needs_background": "light"
     },
     "output_type": "display_data"
    }
   ],
   "source": [
    "sns.boxplot(df[\"Unemployment\"])"
   ]
  },
  {
   "cell_type": "code",
   "execution_count": 77,
   "metadata": {},
   "outputs": [
    {
     "name": "stderr",
     "output_type": "stream",
     "text": [
      "/opt/anaconda3/lib/python3.8/site-packages/seaborn/_decorators.py:36: FutureWarning: Pass the following variable as a keyword arg: x. From version 0.12, the only valid positional argument will be `data`, and passing other arguments without an explicit keyword will result in an error or misinterpretation.\n",
      "  warnings.warn(\n"
     ]
    },
    {
     "data": {
      "text/plain": [
       "<AxesSubplot:xlabel='Fuel_Price'>"
      ]
     },
     "execution_count": 77,
     "metadata": {},
     "output_type": "execute_result"
    },
    {
     "data": {
      "image/png": "[encoded data removed]",
      "text/plain": [
       "<Figure size 432x288 with 1 Axes>"
      ]
     },
     "metadata": {
      "needs_background": "light"
     },
     "output_type": "display_data"
    }
   ],
   "source": [
    "sns.boxplot(df[\"Fuel_Price\"])"
   ]
  },
  {
   "cell_type": "code",
   "execution_count": 78,
   "metadata": {},
   "outputs": [],
   "source": [
    "#only temprature has 1 outlier(low) and alot outliers in Unemployment\n",
    "#we can either discard them or consider as it is because replcaing them can change informations of impact on sales"
   ]
  },
  {
   "cell_type": "code",
   "execution_count": 79,
   "metadata": {},
   "outputs": [],
   "source": [
    "#bivariate analysis"
   ]
  },
  {
   "cell_type": "code",
   "execution_count": 80,
   "metadata": {
    "scrolled": false
   },
   "outputs": [
    {
     "name": "stderr",
     "output_type": "stream",
     "text": [
      "/opt/anaconda3/lib/python3.8/site-packages/seaborn/_decorators.py:36: FutureWarning: Pass the following variables as keyword args: x, y. From version 0.12, the only valid positional argument will be `data`, and passing other arguments without an explicit keyword will result in an error or misinterpretation.\n",
      "  warnings.warn(\n"
     ]
    },
    {
     "data": {
      "text/plain": [
       "<AxesSubplot:xlabel='Store', ylabel='Weekly_Sales'>"
      ]
     },
     "execution_count": 80,
     "metadata": {},
     "output_type": "execute_result"
    },
    {
     "data": {
      "image/png": "[encoded data removed]",
      "text/plain": [
       "<Figure size 432x288 with 1 Axes>"
      ]
     },
     "metadata": {
      "needs_background": "light"
     },
     "output_type": "display_data"
    }
   ],
   "source": [
    "sns.barplot(df[\"Store\"], df[\"Weekly_Sales\"])\n",
    "#almost same for all stores"
   ]
  },
  {
   "cell_type": "code",
   "execution_count": 81,
   "metadata": {},
   "outputs": [
    {
     "name": "stderr",
     "output_type": "stream",
     "text": [
      "/opt/anaconda3/lib/python3.8/site-packages/seaborn/_decorators.py:36: FutureWarning: Pass the following variables as keyword args: x, y. From version 0.12, the only valid positional argument will be `data`, and passing other arguments without an explicit keyword will result in an error or misinterpretation.\n",
      "  warnings.warn(\n"
     ]
    },
    {
     "data": {
      "text/plain": [
       "<AxesSubplot:xlabel='Holiday_Flag', ylabel='Weekly_Sales'>"
      ]
     },
     "execution_count": 81,
     "metadata": {},
     "output_type": "execute_result"
    },
    {
     "data": {
      "image/png": "[encoded data removed]",
      "text/plain": [
       "<Figure size 432x288 with 1 Axes>"
      ]
     },
     "metadata": {
      "needs_background": "light"
     },
     "output_type": "display_data"
    }
   ],
   "source": [
    "sns.barplot(df[\"Holiday_Flag\"], df[\"Weekly_Sales\"])"
   ]
  },
  {
   "cell_type": "code",
   "execution_count": 82,
   "metadata": {},
   "outputs": [
    {
     "name": "stderr",
     "output_type": "stream",
     "text": [
      "/opt/anaconda3/lib/python3.8/site-packages/seaborn/_decorators.py:36: FutureWarning: Pass the following variables as keyword args: x, y. From version 0.12, the only valid positional argument will be `data`, and passing other arguments without an explicit keyword will result in an error or misinterpretation.\n",
      "  warnings.warn(\n"
     ]
    },
    {
     "data": {
      "text/plain": [
       "<AxesSubplot:xlabel='Weekly_Sales', ylabel='Temperature'>"
      ]
     },
     "execution_count": 82,
     "metadata": {},
     "output_type": "execute_result"
    },
    {
     "data": {
      "image/png": "[encoded data removed]",
      "text/plain": [
       "<Figure size 432x288 with 1 Axes>"
      ]
     },
     "metadata": {
      "needs_background": "light"
     },
     "output_type": "display_data"
    }
   ],
   "source": [
    "sns.scatterplot(df[\"Weekly_Sales\"],df[\"Temperature\"])\n",
    "#not much effect of temp on weekly sales"
   ]
  },
  {
   "cell_type": "code",
   "execution_count": 83,
   "metadata": {},
   "outputs": [
    {
     "name": "stderr",
     "output_type": "stream",
     "text": [
      "/opt/anaconda3/lib/python3.8/site-packages/seaborn/_decorators.py:36: FutureWarning: Pass the following variables as keyword args: x, y. From version 0.12, the only valid positional argument will be `data`, and passing other arguments without an explicit keyword will result in an error or misinterpretation.\n",
      "  warnings.warn(\n"
     ]
    },
    {
     "data": {
      "text/plain": [
       "<AxesSubplot:xlabel='Weekly_Sales', ylabel='CPI'>"
      ]
     },
     "execution_count": 83,
     "metadata": {},
     "output_type": "execute_result"
    },
    {
     "data": {
      "image/png": "[encoded data removed]",
      "text/plain": [
       "<Figure size 432x288 with 1 Axes>"
      ]
     },
     "metadata": {
      "needs_background": "light"
     },
     "output_type": "display_data"
    }
   ],
   "source": [
    "sns.scatterplot(df[\"Weekly_Sales\"],df[\"CPI\"])\n",
    "#can't understand much form this"
   ]
  },
  {
   "cell_type": "code",
   "execution_count": 84,
   "metadata": {},
   "outputs": [
    {
     "name": "stderr",
     "output_type": "stream",
     "text": [
      "/opt/anaconda3/lib/python3.8/site-packages/seaborn/_decorators.py:36: FutureWarning: Pass the following variables as keyword args: x, y. From version 0.12, the only valid positional argument will be `data`, and passing other arguments without an explicit keyword will result in an error or misinterpretation.\n",
      "  warnings.warn(\n"
     ]
    },
    {
     "data": {
      "text/plain": [
       "<AxesSubplot:xlabel='Weekly_Sales', ylabel='Fuel_Price'>"
      ]
     },
     "execution_count": 84,
     "metadata": {},
     "output_type": "execute_result"
    },
    {
     "data": {
      "image/png": "[encoded data removed]",
      "text/plain": [
       "<Figure size 432x288 with 1 Axes>"
      ]
     },
     "metadata": {
      "needs_background": "light"
     },
     "output_type": "display_data"
    }
   ],
   "source": [
    "sns.scatterplot(df[\"Weekly_Sales\"],df[\"Fuel_Price\"])\n",
    "#not much relationship between sales and fuel price of that week"
   ]
  },
  {
   "cell_type": "code",
   "execution_count": 85,
   "metadata": {},
   "outputs": [
    {
     "name": "stderr",
     "output_type": "stream",
     "text": [
      "/opt/anaconda3/lib/python3.8/site-packages/seaborn/_decorators.py:36: FutureWarning: Pass the following variables as keyword args: x, y. From version 0.12, the only valid positional argument will be `data`, and passing other arguments without an explicit keyword will result in an error or misinterpretation.\n",
      "  warnings.warn(\n"
     ]
    },
    {
     "data": {
      "text/plain": [
       "<AxesSubplot:xlabel='Weekly_Sales', ylabel='Unemployment'>"
      ]
     },
     "execution_count": 85,
     "metadata": {},
     "output_type": "execute_result"
    },
    {
     "data": {
      "image/png": "[encoded data removed]",
      "text/plain": [
       "<Figure size 432x288 with 1 Axes>"
      ]
     },
     "metadata": {
      "needs_background": "light"
     },
     "output_type": "display_data"
    }
   ],
   "source": [
    "sns.scatterplot(df[\"Weekly_Sales\"],df[\"Unemployment\"])\n",
    "#not much relationship between sales and fuel price of that week"
   ]
  },
  {
   "cell_type": "code",
   "execution_count": 86,
   "metadata": {},
   "outputs": [
    {
     "data": {
      "text/html": [
       "<div>\n",
       "<style scoped>\n",
       "    .dataframe tbody tr th:only-of-type {\n",
       "        vertical-align: middle;\n",
       "    }\n",
       "\n",
       "    .dataframe tbody tr th {\n",
       "        vertical-align: top;\n",
       "    }\n",
       "\n",
       "    .dataframe thead th {\n",
       "        text-align: right;\n",
       "    }\n",
       "</style>\n",
       "<table border=\"1\" class=\"dataframe\">\n",
       "  <thead>\n",
       "    <tr style=\"text-align: right;\">\n",
       "      <th></th>\n",
       "      <th>Weekly_Sales</th>\n",
       "      <th>Temperature</th>\n",
       "      <th>Fuel_Price</th>\n",
       "      <th>CPI</th>\n",
       "      <th>Unemployment</th>\n",
       "    </tr>\n",
       "  </thead>\n",
       "  <tbody>\n",
       "    <tr>\n",
       "      <th>Weekly_Sales</th>\n",
       "      <td>1.000000</td>\n",
       "      <td>-0.063810</td>\n",
       "      <td>0.009464</td>\n",
       "      <td>-0.069761</td>\n",
       "      <td>-0.106176</td>\n",
       "    </tr>\n",
       "    <tr>\n",
       "      <th>Temperature</th>\n",
       "      <td>-0.063810</td>\n",
       "      <td>1.000000</td>\n",
       "      <td>0.144982</td>\n",
       "      <td>0.163618</td>\n",
       "      <td>0.101158</td>\n",
       "    </tr>\n",
       "    <tr>\n",
       "      <th>Fuel_Price</th>\n",
       "      <td>0.009464</td>\n",
       "      <td>0.144982</td>\n",
       "      <td>1.000000</td>\n",
       "      <td>-0.170365</td>\n",
       "      <td>-0.034684</td>\n",
       "    </tr>\n",
       "    <tr>\n",
       "      <th>CPI</th>\n",
       "      <td>-0.069761</td>\n",
       "      <td>0.163618</td>\n",
       "      <td>-0.170365</td>\n",
       "      <td>1.000000</td>\n",
       "      <td>-0.301654</td>\n",
       "    </tr>\n",
       "    <tr>\n",
       "      <th>Unemployment</th>\n",
       "      <td>-0.106176</td>\n",
       "      <td>0.101158</td>\n",
       "      <td>-0.034684</td>\n",
       "      <td>-0.301654</td>\n",
       "      <td>1.000000</td>\n",
       "    </tr>\n",
       "  </tbody>\n",
       "</table>\n",
       "</div>"
      ],
      "text/plain": [
       "              Weekly_Sales  Temperature  Fuel_Price       CPI  Unemployment\n",
       "Weekly_Sales      1.000000    -0.063810    0.009464 -0.069761     -0.106176\n",
       "Temperature      -0.063810     1.000000    0.144982  0.163618      0.101158\n",
       "Fuel_Price        0.009464     0.144982    1.000000 -0.170365     -0.034684\n",
       "CPI              -0.069761     0.163618   -0.170365  1.000000     -0.301654\n",
       "Unemployment     -0.106176     0.101158   -0.034684 -0.301654      1.000000"
      ]
     },
     "execution_count": 86,
     "metadata": {},
     "output_type": "execute_result"
    }
   ],
   "source": [
    "df.corr()\n",
    "#not mush corelation between the numerical variables and weekly_sales"
   ]
  },
  {
   "cell_type": "code",
   "execution_count": 87,
   "metadata": {},
   "outputs": [],
   "source": [
    "#importing sklearn libraies "
   ]
  },
  {
   "cell_type": "code",
   "execution_count": 88,
   "metadata": {},
   "outputs": [],
   "source": [
    "from sklearn.model_selection import train_test_split\n",
    "from sklearn.linear_model import LinearRegression\n",
    "from sklearn.metrics import accuracy_score,r2_score\n",
    "from sklearn.feature_selection import RFE\n",
    "from sklearn.preprocessing import MinMaxScaler"
   ]
  },
  {
   "cell_type": "code",
   "execution_count": 89,
   "metadata": {},
   "outputs": [],
   "source": [
    "#Data preprocessing"
   ]
  },
  {
   "cell_type": "code",
   "execution_count": 90,
   "metadata": {},
   "outputs": [],
   "source": [
    "#sperating category and numeric independent variables"
   ]
  },
  {
   "cell_type": "code",
   "execution_count": 91,
   "metadata": {},
   "outputs": [],
   "source": [
    "df_cat = df.select_dtypes(include='category')"
   ]
  },
  {
   "cell_type": "code",
   "execution_count": 92,
   "metadata": {},
   "outputs": [],
   "source": [
    "df_num = df.select_dtypes(exclude='category')"
   ]
  },
  {
   "cell_type": "code",
   "execution_count": 93,
   "metadata": {
    "scrolled": false
   },
   "outputs": [
    {
     "data": {
      "text/html": [
       "<div>\n",
       "<style scoped>\n",
       "    .dataframe tbody tr th:only-of-type {\n",
       "        vertical-align: middle;\n",
       "    }\n",
       "\n",
       "    .dataframe tbody tr th {\n",
       "        vertical-align: top;\n",
       "    }\n",
       "\n",
       "    .dataframe thead th {\n",
       "        text-align: right;\n",
       "    }\n",
       "</style>\n",
       "<table border=\"1\" class=\"dataframe\">\n",
       "  <thead>\n",
       "    <tr style=\"text-align: right;\">\n",
       "      <th></th>\n",
       "      <th>Temperature</th>\n",
       "      <th>Fuel_Price</th>\n",
       "      <th>CPI</th>\n",
       "      <th>Unemployment</th>\n",
       "    </tr>\n",
       "  </thead>\n",
       "  <tbody>\n",
       "    <tr>\n",
       "      <th>0</th>\n",
       "      <td>42.31</td>\n",
       "      <td>2.572</td>\n",
       "      <td>5.357041</td>\n",
       "      <td>8.106</td>\n",
       "    </tr>\n",
       "    <tr>\n",
       "      <th>1</th>\n",
       "      <td>38.51</td>\n",
       "      <td>2.548</td>\n",
       "      <td>5.357728</td>\n",
       "      <td>8.106</td>\n",
       "    </tr>\n",
       "    <tr>\n",
       "      <th>2</th>\n",
       "      <td>39.93</td>\n",
       "      <td>2.514</td>\n",
       "      <td>5.357949</td>\n",
       "      <td>8.106</td>\n",
       "    </tr>\n",
       "    <tr>\n",
       "      <th>3</th>\n",
       "      <td>46.63</td>\n",
       "      <td>2.561</td>\n",
       "      <td>5.358093</td>\n",
       "      <td>8.106</td>\n",
       "    </tr>\n",
       "    <tr>\n",
       "      <th>4</th>\n",
       "      <td>46.50</td>\n",
       "      <td>2.625</td>\n",
       "      <td>5.358237</td>\n",
       "      <td>8.106</td>\n",
       "    </tr>\n",
       "  </tbody>\n",
       "</table>\n",
       "</div>"
      ],
      "text/plain": [
       "   Temperature  Fuel_Price       CPI  Unemployment\n",
       "0        42.31       2.572  5.357041         8.106\n",
       "1        38.51       2.548  5.357728         8.106\n",
       "2        39.93       2.514  5.357949         8.106\n",
       "3        46.63       2.561  5.358093         8.106\n",
       "4        46.50       2.625  5.358237         8.106"
      ]
     },
     "execution_count": 93,
     "metadata": {},
     "output_type": "execute_result"
    }
   ],
   "source": [
    "df_num = df_num.drop([\"Date\",\"Weekly_Sales\"],axis=1)\n",
    "df_num.head()"
   ]
  },
  {
   "cell_type": "code",
   "execution_count": 94,
   "metadata": {},
   "outputs": [],
   "source": [
    "#scaling of df_num "
   ]
  },
  {
   "cell_type": "code",
   "execution_count": 95,
   "metadata": {},
   "outputs": [],
   "source": [
    "sc = MinMaxScaler()\n",
    "df_sc = sc.fit_transform(df_num)"
   ]
  },
  {
   "cell_type": "code",
   "execution_count": 96,
   "metadata": {},
   "outputs": [],
   "source": [
    "df_numsc = pd.DataFrame(df_sc,index=df_num.index,columns=df_num.columns)"
   ]
  },
  {
   "cell_type": "code",
   "execution_count": 97,
   "metadata": {},
   "outputs": [
    {
     "data": {
      "text/html": [
       "<div>\n",
       "<style scoped>\n",
       "    .dataframe tbody tr th:only-of-type {\n",
       "        vertical-align: middle;\n",
       "    }\n",
       "\n",
       "    .dataframe tbody tr th {\n",
       "        vertical-align: top;\n",
       "    }\n",
       "\n",
       "    .dataframe thead th {\n",
       "        text-align: right;\n",
       "    }\n",
       "</style>\n",
       "<table border=\"1\" class=\"dataframe\">\n",
       "  <thead>\n",
       "    <tr style=\"text-align: right;\">\n",
       "      <th></th>\n",
       "      <th>Temperature</th>\n",
       "      <th>Fuel_Price</th>\n",
       "      <th>CPI</th>\n",
       "      <th>Unemployment</th>\n",
       "    </tr>\n",
       "  </thead>\n",
       "  <tbody>\n",
       "    <tr>\n",
       "      <th>0</th>\n",
       "      <td>0.434149</td>\n",
       "      <td>0.050100</td>\n",
       "      <td>0.874802</td>\n",
       "      <td>0.405118</td>\n",
       "    </tr>\n",
       "    <tr>\n",
       "      <th>1</th>\n",
       "      <td>0.396967</td>\n",
       "      <td>0.038076</td>\n",
       "      <td>0.875975</td>\n",
       "      <td>0.405118</td>\n",
       "    </tr>\n",
       "    <tr>\n",
       "      <th>2</th>\n",
       "      <td>0.410861</td>\n",
       "      <td>0.021042</td>\n",
       "      <td>0.876353</td>\n",
       "      <td>0.405118</td>\n",
       "    </tr>\n",
       "    <tr>\n",
       "      <th>3</th>\n",
       "      <td>0.476419</td>\n",
       "      <td>0.044589</td>\n",
       "      <td>0.876598</td>\n",
       "      <td>0.405118</td>\n",
       "    </tr>\n",
       "    <tr>\n",
       "      <th>4</th>\n",
       "      <td>0.475147</td>\n",
       "      <td>0.076653</td>\n",
       "      <td>0.876844</td>\n",
       "      <td>0.405118</td>\n",
       "    </tr>\n",
       "  </tbody>\n",
       "</table>\n",
       "</div>"
      ],
      "text/plain": [
       "   Temperature  Fuel_Price       CPI  Unemployment\n",
       "0     0.434149    0.050100  0.874802      0.405118\n",
       "1     0.396967    0.038076  0.875975      0.405118\n",
       "2     0.410861    0.021042  0.876353      0.405118\n",
       "3     0.476419    0.044589  0.876598      0.405118\n",
       "4     0.475147    0.076653  0.876844      0.405118"
      ]
     },
     "execution_count": 97,
     "metadata": {},
     "output_type": "execute_result"
    }
   ],
   "source": [
    "df_numsc.head()"
   ]
  },
  {
   "cell_type": "code",
   "execution_count": 98,
   "metadata": {},
   "outputs": [],
   "source": [
    "#one-knot coding of cat data"
   ]
  },
  {
   "cell_type": "code",
   "execution_count": 99,
   "metadata": {},
   "outputs": [],
   "source": [
    "df_cat1 = pd.get_dummies(df_cat)"
   ]
  },
  {
   "cell_type": "code",
   "execution_count": 100,
   "metadata": {},
   "outputs": [
    {
     "data": {
      "text/html": [
       "<div>\n",
       "<style scoped>\n",
       "    .dataframe tbody tr th:only-of-type {\n",
       "        vertical-align: middle;\n",
       "    }\n",
       "\n",
       "    .dataframe tbody tr th {\n",
       "        vertical-align: top;\n",
       "    }\n",
       "\n",
       "    .dataframe thead th {\n",
       "        text-align: right;\n",
       "    }\n",
       "</style>\n",
       "<table border=\"1\" class=\"dataframe\">\n",
       "  <thead>\n",
       "    <tr style=\"text-align: right;\">\n",
       "      <th></th>\n",
       "      <th>Store_1</th>\n",
       "      <th>Store_2</th>\n",
       "      <th>Store_3</th>\n",
       "      <th>Store_4</th>\n",
       "      <th>Store_5</th>\n",
       "      <th>Store_6</th>\n",
       "      <th>Store_7</th>\n",
       "      <th>Store_8</th>\n",
       "      <th>Store_9</th>\n",
       "      <th>Store_10</th>\n",
       "      <th>...</th>\n",
       "      <th>day_350</th>\n",
       "      <th>day_351</th>\n",
       "      <th>day_357</th>\n",
       "      <th>day_358</th>\n",
       "      <th>day_364</th>\n",
       "      <th>day_365</th>\n",
       "      <th>Q_1</th>\n",
       "      <th>Q_2</th>\n",
       "      <th>Q_3</th>\n",
       "      <th>Q_4</th>\n",
       "    </tr>\n",
       "  </thead>\n",
       "  <tbody>\n",
       "    <tr>\n",
       "      <th>0</th>\n",
       "      <td>1</td>\n",
       "      <td>0</td>\n",
       "      <td>0</td>\n",
       "      <td>0</td>\n",
       "      <td>0</td>\n",
       "      <td>0</td>\n",
       "      <td>0</td>\n",
       "      <td>0</td>\n",
       "      <td>0</td>\n",
       "      <td>0</td>\n",
       "      <td>...</td>\n",
       "      <td>0</td>\n",
       "      <td>0</td>\n",
       "      <td>0</td>\n",
       "      <td>0</td>\n",
       "      <td>0</td>\n",
       "      <td>0</td>\n",
       "      <td>0</td>\n",
       "      <td>1</td>\n",
       "      <td>0</td>\n",
       "      <td>0</td>\n",
       "    </tr>\n",
       "    <tr>\n",
       "      <th>1</th>\n",
       "      <td>1</td>\n",
       "      <td>0</td>\n",
       "      <td>0</td>\n",
       "      <td>0</td>\n",
       "      <td>0</td>\n",
       "      <td>0</td>\n",
       "      <td>0</td>\n",
       "      <td>0</td>\n",
       "      <td>0</td>\n",
       "      <td>0</td>\n",
       "      <td>...</td>\n",
       "      <td>0</td>\n",
       "      <td>0</td>\n",
       "      <td>0</td>\n",
       "      <td>0</td>\n",
       "      <td>0</td>\n",
       "      <td>0</td>\n",
       "      <td>0</td>\n",
       "      <td>0</td>\n",
       "      <td>0</td>\n",
       "      <td>1</td>\n",
       "    </tr>\n",
       "    <tr>\n",
       "      <th>2</th>\n",
       "      <td>1</td>\n",
       "      <td>0</td>\n",
       "      <td>0</td>\n",
       "      <td>0</td>\n",
       "      <td>0</td>\n",
       "      <td>0</td>\n",
       "      <td>0</td>\n",
       "      <td>0</td>\n",
       "      <td>0</td>\n",
       "      <td>0</td>\n",
       "      <td>...</td>\n",
       "      <td>0</td>\n",
       "      <td>0</td>\n",
       "      <td>0</td>\n",
       "      <td>0</td>\n",
       "      <td>0</td>\n",
       "      <td>0</td>\n",
       "      <td>1</td>\n",
       "      <td>0</td>\n",
       "      <td>0</td>\n",
       "      <td>0</td>\n",
       "    </tr>\n",
       "    <tr>\n",
       "      <th>3</th>\n",
       "      <td>1</td>\n",
       "      <td>0</td>\n",
       "      <td>0</td>\n",
       "      <td>0</td>\n",
       "      <td>0</td>\n",
       "      <td>0</td>\n",
       "      <td>0</td>\n",
       "      <td>0</td>\n",
       "      <td>0</td>\n",
       "      <td>0</td>\n",
       "      <td>...</td>\n",
       "      <td>0</td>\n",
       "      <td>0</td>\n",
       "      <td>0</td>\n",
       "      <td>0</td>\n",
       "      <td>0</td>\n",
       "      <td>0</td>\n",
       "      <td>1</td>\n",
       "      <td>0</td>\n",
       "      <td>0</td>\n",
       "      <td>0</td>\n",
       "    </tr>\n",
       "    <tr>\n",
       "      <th>4</th>\n",
       "      <td>1</td>\n",
       "      <td>0</td>\n",
       "      <td>0</td>\n",
       "      <td>0</td>\n",
       "      <td>0</td>\n",
       "      <td>0</td>\n",
       "      <td>0</td>\n",
       "      <td>0</td>\n",
       "      <td>0</td>\n",
       "      <td>0</td>\n",
       "      <td>...</td>\n",
       "      <td>0</td>\n",
       "      <td>0</td>\n",
       "      <td>0</td>\n",
       "      <td>0</td>\n",
       "      <td>0</td>\n",
       "      <td>0</td>\n",
       "      <td>0</td>\n",
       "      <td>1</td>\n",
       "      <td>0</td>\n",
       "      <td>0</td>\n",
       "    </tr>\n",
       "  </tbody>\n",
       "</table>\n",
       "<p>5 rows × 250 columns</p>\n",
       "</div>"
      ],
      "text/plain": [
       "   Store_1  Store_2  Store_3  Store_4  Store_5  Store_6  Store_7  Store_8  \\\n",
       "0        1        0        0        0        0        0        0        0   \n",
       "1        1        0        0        0        0        0        0        0   \n",
       "2        1        0        0        0        0        0        0        0   \n",
       "3        1        0        0        0        0        0        0        0   \n",
       "4        1        0        0        0        0        0        0        0   \n",
       "\n",
       "   Store_9  Store_10  ...  day_350  day_351  day_357  day_358  day_364  \\\n",
       "0        0         0  ...        0        0        0        0        0   \n",
       "1        0         0  ...        0        0        0        0        0   \n",
       "2        0         0  ...        0        0        0        0        0   \n",
       "3        0         0  ...        0        0        0        0        0   \n",
       "4        0         0  ...        0        0        0        0        0   \n",
       "\n",
       "   day_365  Q_1  Q_2  Q_3  Q_4  \n",
       "0        0    0    1    0    0  \n",
       "1        0    0    0    0    1  \n",
       "2        0    1    0    0    0  \n",
       "3        0    1    0    0    0  \n",
       "4        0    0    1    0    0  \n",
       "\n",
       "[5 rows x 250 columns]"
      ]
     },
     "execution_count": 100,
     "metadata": {},
     "output_type": "execute_result"
    }
   ],
   "source": [
    "df_cat1.head()"
   ]
  },
  {
   "cell_type": "code",
   "execution_count": 101,
   "metadata": {},
   "outputs": [],
   "source": [
    "#final dataset\n",
    "df_final = pd.concat([df_numsc,df_cat1,df[\"Weekly_Sales\"]],axis=1)"
   ]
  },
  {
   "cell_type": "code",
   "execution_count": 102,
   "metadata": {},
   "outputs": [
    {
     "data": {
      "text/html": [
       "<div>\n",
       "<style scoped>\n",
       "    .dataframe tbody tr th:only-of-type {\n",
       "        vertical-align: middle;\n",
       "    }\n",
       "\n",
       "    .dataframe tbody tr th {\n",
       "        vertical-align: top;\n",
       "    }\n",
       "\n",
       "    .dataframe thead th {\n",
       "        text-align: right;\n",
       "    }\n",
       "</style>\n",
       "<table border=\"1\" class=\"dataframe\">\n",
       "  <thead>\n",
       "    <tr style=\"text-align: right;\">\n",
       "      <th></th>\n",
       "      <th>Temperature</th>\n",
       "      <th>Fuel_Price</th>\n",
       "      <th>CPI</th>\n",
       "      <th>Unemployment</th>\n",
       "      <th>Store_1</th>\n",
       "      <th>Store_2</th>\n",
       "      <th>Store_3</th>\n",
       "      <th>Store_4</th>\n",
       "      <th>Store_5</th>\n",
       "      <th>Store_6</th>\n",
       "      <th>...</th>\n",
       "      <th>day_351</th>\n",
       "      <th>day_357</th>\n",
       "      <th>day_358</th>\n",
       "      <th>day_364</th>\n",
       "      <th>day_365</th>\n",
       "      <th>Q_1</th>\n",
       "      <th>Q_2</th>\n",
       "      <th>Q_3</th>\n",
       "      <th>Q_4</th>\n",
       "      <th>Weekly_Sales</th>\n",
       "    </tr>\n",
       "  </thead>\n",
       "  <tbody>\n",
       "    <tr>\n",
       "      <th>0</th>\n",
       "      <td>0.434149</td>\n",
       "      <td>0.050100</td>\n",
       "      <td>0.874802</td>\n",
       "      <td>0.405118</td>\n",
       "      <td>1</td>\n",
       "      <td>0</td>\n",
       "      <td>0</td>\n",
       "      <td>0</td>\n",
       "      <td>0</td>\n",
       "      <td>0</td>\n",
       "      <td>...</td>\n",
       "      <td>0</td>\n",
       "      <td>0</td>\n",
       "      <td>0</td>\n",
       "      <td>0</td>\n",
       "      <td>0</td>\n",
       "      <td>0</td>\n",
       "      <td>1</td>\n",
       "      <td>0</td>\n",
       "      <td>0</td>\n",
       "      <td>1643690.90</td>\n",
       "    </tr>\n",
       "    <tr>\n",
       "      <th>1</th>\n",
       "      <td>0.396967</td>\n",
       "      <td>0.038076</td>\n",
       "      <td>0.875975</td>\n",
       "      <td>0.405118</td>\n",
       "      <td>1</td>\n",
       "      <td>0</td>\n",
       "      <td>0</td>\n",
       "      <td>0</td>\n",
       "      <td>0</td>\n",
       "      <td>0</td>\n",
       "      <td>...</td>\n",
       "      <td>0</td>\n",
       "      <td>0</td>\n",
       "      <td>0</td>\n",
       "      <td>0</td>\n",
       "      <td>0</td>\n",
       "      <td>0</td>\n",
       "      <td>0</td>\n",
       "      <td>0</td>\n",
       "      <td>1</td>\n",
       "      <td>1641957.44</td>\n",
       "    </tr>\n",
       "    <tr>\n",
       "      <th>2</th>\n",
       "      <td>0.410861</td>\n",
       "      <td>0.021042</td>\n",
       "      <td>0.876353</td>\n",
       "      <td>0.405118</td>\n",
       "      <td>1</td>\n",
       "      <td>0</td>\n",
       "      <td>0</td>\n",
       "      <td>0</td>\n",
       "      <td>0</td>\n",
       "      <td>0</td>\n",
       "      <td>...</td>\n",
       "      <td>0</td>\n",
       "      <td>0</td>\n",
       "      <td>0</td>\n",
       "      <td>0</td>\n",
       "      <td>0</td>\n",
       "      <td>1</td>\n",
       "      <td>0</td>\n",
       "      <td>0</td>\n",
       "      <td>0</td>\n",
       "      <td>1611968.17</td>\n",
       "    </tr>\n",
       "    <tr>\n",
       "      <th>3</th>\n",
       "      <td>0.476419</td>\n",
       "      <td>0.044589</td>\n",
       "      <td>0.876598</td>\n",
       "      <td>0.405118</td>\n",
       "      <td>1</td>\n",
       "      <td>0</td>\n",
       "      <td>0</td>\n",
       "      <td>0</td>\n",
       "      <td>0</td>\n",
       "      <td>0</td>\n",
       "      <td>...</td>\n",
       "      <td>0</td>\n",
       "      <td>0</td>\n",
       "      <td>0</td>\n",
       "      <td>0</td>\n",
       "      <td>0</td>\n",
       "      <td>1</td>\n",
       "      <td>0</td>\n",
       "      <td>0</td>\n",
       "      <td>0</td>\n",
       "      <td>1409727.59</td>\n",
       "    </tr>\n",
       "    <tr>\n",
       "      <th>4</th>\n",
       "      <td>0.475147</td>\n",
       "      <td>0.076653</td>\n",
       "      <td>0.876844</td>\n",
       "      <td>0.405118</td>\n",
       "      <td>1</td>\n",
       "      <td>0</td>\n",
       "      <td>0</td>\n",
       "      <td>0</td>\n",
       "      <td>0</td>\n",
       "      <td>0</td>\n",
       "      <td>...</td>\n",
       "      <td>0</td>\n",
       "      <td>0</td>\n",
       "      <td>0</td>\n",
       "      <td>0</td>\n",
       "      <td>0</td>\n",
       "      <td>0</td>\n",
       "      <td>1</td>\n",
       "      <td>0</td>\n",
       "      <td>0</td>\n",
       "      <td>1554806.68</td>\n",
       "    </tr>\n",
       "  </tbody>\n",
       "</table>\n",
       "<p>5 rows × 255 columns</p>\n",
       "</div>"
      ],
      "text/plain": [
       "   Temperature  Fuel_Price       CPI  Unemployment  Store_1  Store_2  Store_3  \\\n",
       "0     0.434149    0.050100  0.874802      0.405118        1        0        0   \n",
       "1     0.396967    0.038076  0.875975      0.405118        1        0        0   \n",
       "2     0.410861    0.021042  0.876353      0.405118        1        0        0   \n",
       "3     0.476419    0.044589  0.876598      0.405118        1        0        0   \n",
       "4     0.475147    0.076653  0.876844      0.405118        1        0        0   \n",
       "\n",
       "   Store_4  Store_5  Store_6  ...  day_351  day_357  day_358  day_364  \\\n",
       "0        0        0        0  ...        0        0        0        0   \n",
       "1        0        0        0  ...        0        0        0        0   \n",
       "2        0        0        0  ...        0        0        0        0   \n",
       "3        0        0        0  ...        0        0        0        0   \n",
       "4        0        0        0  ...        0        0        0        0   \n",
       "\n",
       "   day_365  Q_1  Q_2  Q_3  Q_4  Weekly_Sales  \n",
       "0        0    0    1    0    0    1643690.90  \n",
       "1        0    0    0    0    1    1641957.44  \n",
       "2        0    1    0    0    0    1611968.17  \n",
       "3        0    1    0    0    0    1409727.59  \n",
       "4        0    0    1    0    0    1554806.68  \n",
       "\n",
       "[5 rows x 255 columns]"
      ]
     },
     "execution_count": 102,
     "metadata": {},
     "output_type": "execute_result"
    }
   ],
   "source": [
    "df_final.head()"
   ]
  },
  {
   "cell_type": "code",
   "execution_count": 103,
   "metadata": {},
   "outputs": [],
   "source": [
    "#spliting in train and test data\n",
    "x= df_final.drop(\"Weekly_Sales\",axis=1)\n",
    "y = df_final[\"Weekly_Sales\"]\n",
    "x_train, x_test, y_train, y_test = train_test_split(x, y, test_size=.3, random_state = 10)"
   ]
  },
  {
   "cell_type": "code",
   "execution_count": 104,
   "metadata": {},
   "outputs": [],
   "source": [
    "#model bluiding\n",
    "lm = LinearRegression()\n",
    "#fitting\n",
    "modeltest = lm.fit(x_train,y_train)"
   ]
  },
  {
   "cell_type": "code",
   "execution_count": 105,
   "metadata": {},
   "outputs": [],
   "source": [
    "#perdiction\n",
    "pred = modeltest.predict(x_test)"
   ]
  },
  {
   "cell_type": "code",
   "execution_count": 106,
   "metadata": {},
   "outputs": [
    {
     "data": {
      "text/plain": [
       "0.961291448468839"
      ]
     },
     "execution_count": 106,
     "metadata": {},
     "output_type": "execute_result"
    }
   ],
   "source": [
    "#accaccuracy_score\n",
    "r2_score(y_test,pred)"
   ]
  },
  {
   "cell_type": "code",
   "execution_count": 107,
   "metadata": {},
   "outputs": [
    {
     "data": {
      "text/plain": [
       "0.9637257691487772"
      ]
     },
     "execution_count": 107,
     "metadata": {},
     "output_type": "execute_result"
    }
   ],
   "source": [
    "#acc of training dataset\n",
    "r2_score(y_train,modeltest.predict(x_train))"
   ]
  },
  {
   "cell_type": "code",
   "execution_count": 108,
   "metadata": {},
   "outputs": [],
   "source": [
    "#no overfitting problem in modeltest model of linear regression \n"
   ]
  },
  {
   "cell_type": "code",
   "execution_count": 109,
   "metadata": {},
   "outputs": [],
   "source": [
    "#feature selection (just checking without CPI, unemployment, and fuel price  )"
   ]
  },
  {
   "cell_type": "code",
   "execution_count": 110,
   "metadata": {},
   "outputs": [],
   "source": [
    "rfe = RFE(lm, n_features_to_select=None)"
   ]
  },
  {
   "cell_type": "code",
   "execution_count": 111,
   "metadata": {},
   "outputs": [
    {
     "data": {
      "text/plain": [
       "RFE(estimator=LinearRegression())"
      ]
     },
     "execution_count": 111,
     "metadata": {},
     "output_type": "execute_result"
    }
   ],
   "source": [
    "rfe.fit(x_train,y_train)"
   ]
  },
  {
   "cell_type": "code",
   "execution_count": null,
   "metadata": {},
   "outputs": [],
   "source": []
  },
  {
   "cell_type": "code",
   "execution_count": 112,
   "metadata": {},
   "outputs": [],
   "source": [
    "xref = x[x_train.columns[rfe.support_]]"
   ]
  },
  {
   "cell_type": "code",
   "execution_count": 113,
   "metadata": {},
   "outputs": [],
   "source": [
    "x_train, x_test, y_train, y_test = train_test_split(xref, y, test_size=.3, random_state = 10)"
   ]
  },
  {
   "cell_type": "code",
   "execution_count": 114,
   "metadata": {},
   "outputs": [],
   "source": [
    "modelref = lm.fit(x_train,y_train)"
   ]
  },
  {
   "cell_type": "code",
   "execution_count": 115,
   "metadata": {},
   "outputs": [],
   "source": [
    "preds = modelref.predict(x_test)"
   ]
  },
  {
   "cell_type": "code",
   "execution_count": 116,
   "metadata": {},
   "outputs": [
    {
     "data": {
      "text/plain": [
       "0.9487173877810177"
      ]
     },
     "execution_count": 116,
     "metadata": {},
     "output_type": "execute_result"
    }
   ],
   "source": [
    "r2_score(y_test,preds)"
   ]
  },
  {
   "cell_type": "code",
   "execution_count": 117,
   "metadata": {},
   "outputs": [
    {
     "data": {
      "text/plain": [
       "0.9517189830557531"
      ]
     },
     "execution_count": 117,
     "metadata": {},
     "output_type": "execute_result"
    }
   ],
   "source": [
    "r2_score(y_train,modelref.predict(x_train))"
   ]
  },
  {
   "cell_type": "code",
   "execution_count": 118,
   "metadata": {},
   "outputs": [],
   "source": [
    "#rfe shows that CPI, unemployment, and fuel price are insignificant but acc of modelref is less than modeltest"
   ]
  },
  {
   "cell_type": "code",
   "execution_count": 119,
   "metadata": {},
   "outputs": [],
   "source": [
    "#modeltest can be better than modelref so maybe  CPI, unemployment, and fuel price are significant."
   ]
  },
  {
   "cell_type": "code",
   "execution_count": 120,
   "metadata": {},
   "outputs": [],
   "source": [
    "#lets decide by cross-validation"
   ]
  },
  {
   "cell_type": "code",
   "execution_count": 121,
   "metadata": {},
   "outputs": [],
   "source": [
    "from sklearn.model_selection import cross_validate"
   ]
  },
  {
   "cell_type": "code",
   "execution_count": 122,
   "metadata": {},
   "outputs": [],
   "source": [
    "test_cv = cross_validate(lm, x,y, cv = 20, return_train_score=True)"
   ]
  },
  {
   "cell_type": "code",
   "execution_count": 123,
   "metadata": {},
   "outputs": [
    {
     "data": {
      "text/plain": [
       "0.9636459394085479"
      ]
     },
     "execution_count": 123,
     "metadata": {},
     "output_type": "execute_result"
    }
   ],
   "source": [
    "test_cv[\"train_score\"].mean()"
   ]
  },
  {
   "cell_type": "code",
   "execution_count": 124,
   "metadata": {},
   "outputs": [],
   "source": [
    "ref_cv = cross_validate(lm, xref,y, cv = 20, return_train_score=True)"
   ]
  },
  {
   "cell_type": "code",
   "execution_count": 125,
   "metadata": {},
   "outputs": [
    {
     "data": {
      "text/plain": [
       "0.9515541162618503"
      ]
     },
     "execution_count": 125,
     "metadata": {},
     "output_type": "execute_result"
    }
   ],
   "source": [
    "ref_cv[\"train_score\"].mean()"
   ]
  },
  {
   "cell_type": "code",
   "execution_count": 126,
   "metadata": {},
   "outputs": [],
   "source": [
    "#mdoeltest is better than modelref so we can say CPI, unemployment, and fuel price are significant."
   ]
  },
  {
   "cell_type": "code",
   "execution_count": null,
   "metadata": {},
   "outputs": [],
   "source": []
  },
  {
   "cell_type": "code",
   "execution_count": null,
   "metadata": {},
   "outputs": [],
   "source": []
  },
  {
   "cell_type": "code",
   "execution_count": null,
   "metadata": {},
   "outputs": [],
   "source": []
  }
 ],
 "metadata": {
  "kernelspec": {
   "display_name": "Python 3",
   "language": "python",
   "name": "python3"
  },
  "language_info": {
   "codemirror_mode": {
    "name": "ipython",
    "version": 3
   },
   "file_extension": ".py",
   "mimetype": "text/x-python",
   "name": "python",
   "nbconvert_exporter": "python",
   "pygments_lexer": "ipython3",
   "version": "3.8.8"
  }
 },
 "nbformat": 4,
 "nbformat_minor": 4
}
